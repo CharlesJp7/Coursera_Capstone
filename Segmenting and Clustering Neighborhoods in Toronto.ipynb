{
 "cells": [
  {
   "cell_type": "markdown",
   "metadata": {},
   "source": [
    "# Segmenting and Clustering Neighborhoods in Toronto"
   ]
  },
  {
   "cell_type": "markdown",
   "metadata": {},
   "source": [
    "**Author** = Juan Carlos Cardenas "
   ]
  },
  {
   "cell_type": "markdown",
   "metadata": {},
   "source": [
    "I'm a simple man, so I have all the three steps in just one notebook\n",
    "\n",
    "* Web scraping\n",
    "* Cleaning  \n",
    "* Clustering \n",
    "\n",
    "**SO...LET'S DO IT**\n"
   ]
  },
  {
   "cell_type": "markdown",
   "metadata": {},
   "source": [
    "## 1. IMPORT ALL THE LIB that we will need "
   ]
  },
  {
   "cell_type": "code",
   "execution_count": 9,
   "metadata": {},
   "outputs": [
    {
     "name": "stderr",
     "output_type": "stream",
     "text": [
      "\"conda\" no se reconoce como un comando interno o externo,\n",
      "programa o archivo por lotes ejecutable.\n"
     ]
    },
    {
     "name": "stdout",
     "output_type": "stream",
     "text": [
      "Folium installed\n",
      "Libraries imported.\n"
     ]
    }
   ],
   "source": [
    "import requests # library to handle requests\n",
    "import pandas as pd # library for data analsysis\n",
    "import numpy as np # library to handle data in a vectorized manner\n",
    "import random # library for random number generation\n",
    "\n",
    "#!conda install -c conda-forge geopy --yes \n",
    "from geopy.geocoders import Nominatim # module to convert an address into latitude and longitude values\n",
    "\n",
    "# libraries for displaying images\n",
    "from IPython.display import Image \n",
    "from IPython.core.display import HTML \n",
    "\n",
    "from IPython.display import display_html\n",
    "import pandas as pd\n",
    "import numpy as np\n",
    "    \n",
    "# tranforming json file into a pandas dataframe library\n",
    "from pandas.io.json import json_normalize\n",
    "\n",
    "#!conda install -c conda-forge folium=0.5.0 --yes\n",
    "import folium # plotting library\n",
    "from bs4 import BeautifulSoup\n",
    "from sklearn.cluster import KMeans\n",
    "import matplotlib.cm as cm\n",
    "import matplotlib.colors as colors\n",
    "\n",
    "print('Folium installed')\n",
    "print('Libraries imported.')"
   ]
  },
  {
   "cell_type": "markdown",
   "metadata": {},
   "source": [
    "\n",
    "## Scraping the Wikipedia page..."
   ]
  },
  {
   "cell_type": "code",
   "execution_count": 10,
   "metadata": {},
   "outputs": [
    {
     "name": "stdout",
     "output_type": "stream",
     "text": [
      "<title>List of postal codes of Canada: M - Wikipedia</title>\n"
     ]
    }
   ],
   "source": [
    "source = requests.get('https://en.wikipedia.org/wiki/List_of_postal_codes_of_Canada:_M').text\n",
    "soup=BeautifulSoup(source,'lxml')\n",
    "print(soup.title)\n",
    "from IPython.display import display_html\n",
    "tab = str(soup.table)\n",
    "#display_html(tab,raw=True)"
   ]
  },
  {
   "cell_type": "code",
   "execution_count": 31,
   "metadata": {},
   "outputs": [
    {
     "data": {
      "text/html": [
       "<div>\n",
       "<style scoped>\n",
       "    .dataframe tbody tr th:only-of-type {\n",
       "        vertical-align: middle;\n",
       "    }\n",
       "\n",
       "    .dataframe tbody tr th {\n",
       "        vertical-align: top;\n",
       "    }\n",
       "\n",
       "    .dataframe thead th {\n",
       "        text-align: right;\n",
       "    }\n",
       "</style>\n",
       "<table border=\"1\" class=\"dataframe\">\n",
       "  <thead>\n",
       "    <tr style=\"text-align: right;\">\n",
       "      <th></th>\n",
       "      <th>Postal code</th>\n",
       "      <th>Borough</th>\n",
       "      <th>Neighborhood</th>\n",
       "    </tr>\n",
       "  </thead>\n",
       "  <tbody>\n",
       "    <tr>\n",
       "      <th>0</th>\n",
       "      <td>M1A</td>\n",
       "      <td>Not assigned</td>\n",
       "      <td>NaN</td>\n",
       "    </tr>\n",
       "    <tr>\n",
       "      <th>1</th>\n",
       "      <td>M2A</td>\n",
       "      <td>Not assigned</td>\n",
       "      <td>NaN</td>\n",
       "    </tr>\n",
       "    <tr>\n",
       "      <th>2</th>\n",
       "      <td>M3A</td>\n",
       "      <td>North York</td>\n",
       "      <td>Parkwoods</td>\n",
       "    </tr>\n",
       "    <tr>\n",
       "      <th>3</th>\n",
       "      <td>M4A</td>\n",
       "      <td>North York</td>\n",
       "      <td>Victoria Village</td>\n",
       "    </tr>\n",
       "    <tr>\n",
       "      <th>4</th>\n",
       "      <td>M5A</td>\n",
       "      <td>Downtown Toronto</td>\n",
       "      <td>Regent Park / Harbourfront</td>\n",
       "    </tr>\n",
       "  </tbody>\n",
       "</table>\n",
       "</div>"
      ],
      "text/plain": [
       "  Postal code           Borough                Neighborhood\n",
       "0         M1A      Not assigned                         NaN\n",
       "1         M2A      Not assigned                         NaN\n",
       "2         M3A        North York                   Parkwoods\n",
       "3         M4A        North York            Victoria Village\n",
       "4         M5A  Downtown Toronto  Regent Park / Harbourfront"
      ]
     },
     "execution_count": 31,
     "metadata": {},
     "output_type": "execute_result"
    }
   ],
   "source": [
    "dfs = pd.read_html(tab)\n",
    "df=dfs[0]\n",
    "df.head()"
   ]
  },
  {
   "cell_type": "markdown",
   "metadata": {},
   "source": [
    "\n",
    "## A little Data prep and cleaning for the ladys"
   ]
  },
  {
   "cell_type": "code",
   "execution_count": 33,
   "metadata": {},
   "outputs": [
    {
     "data": {
      "text/html": [
       "<div>\n",
       "<style scoped>\n",
       "    .dataframe tbody tr th:only-of-type {\n",
       "        vertical-align: middle;\n",
       "    }\n",
       "\n",
       "    .dataframe tbody tr th {\n",
       "        vertical-align: top;\n",
       "    }\n",
       "\n",
       "    .dataframe thead th {\n",
       "        text-align: right;\n",
       "    }\n",
       "</style>\n",
       "<table border=\"1\" class=\"dataframe\">\n",
       "  <thead>\n",
       "    <tr style=\"text-align: right;\">\n",
       "      <th></th>\n",
       "      <th>Postal code</th>\n",
       "      <th>Borough</th>\n",
       "      <th>Neighborhood</th>\n",
       "    </tr>\n",
       "  </thead>\n",
       "  <tbody>\n",
       "    <tr>\n",
       "      <th>0</th>\n",
       "      <td>M3A</td>\n",
       "      <td>North York</td>\n",
       "      <td>Parkwoods</td>\n",
       "    </tr>\n",
       "    <tr>\n",
       "      <th>1</th>\n",
       "      <td>M4A</td>\n",
       "      <td>North York</td>\n",
       "      <td>Victoria Village</td>\n",
       "    </tr>\n",
       "    <tr>\n",
       "      <th>2</th>\n",
       "      <td>M5A</td>\n",
       "      <td>Downtown Toronto</td>\n",
       "      <td>Regent Park / Harbourfront</td>\n",
       "    </tr>\n",
       "    <tr>\n",
       "      <th>3</th>\n",
       "      <td>M6A</td>\n",
       "      <td>North York</td>\n",
       "      <td>Lawrence Manor / Lawrence Heights</td>\n",
       "    </tr>\n",
       "    <tr>\n",
       "      <th>4</th>\n",
       "      <td>M7A</td>\n",
       "      <td>Downtown Toronto</td>\n",
       "      <td>Queen's Park / Ontario Provincial Government</td>\n",
       "    </tr>\n",
       "    <tr>\n",
       "      <th>5</th>\n",
       "      <td>M9A</td>\n",
       "      <td>Etobicoke</td>\n",
       "      <td>Islington Avenue</td>\n",
       "    </tr>\n",
       "    <tr>\n",
       "      <th>6</th>\n",
       "      <td>M1B</td>\n",
       "      <td>Scarborough</td>\n",
       "      <td>Malvern / Rouge</td>\n",
       "    </tr>\n",
       "    <tr>\n",
       "      <th>7</th>\n",
       "      <td>M3B</td>\n",
       "      <td>North York</td>\n",
       "      <td>Don Mills</td>\n",
       "    </tr>\n",
       "    <tr>\n",
       "      <th>8</th>\n",
       "      <td>M4B</td>\n",
       "      <td>East York</td>\n",
       "      <td>Parkview Hill / Woodbine Gardens</td>\n",
       "    </tr>\n",
       "    <tr>\n",
       "      <th>9</th>\n",
       "      <td>M5B</td>\n",
       "      <td>Downtown Toronto</td>\n",
       "      <td>Garden District, Ryerson</td>\n",
       "    </tr>\n",
       "    <tr>\n",
       "      <th>10</th>\n",
       "      <td>M6B</td>\n",
       "      <td>North York</td>\n",
       "      <td>Glencairn</td>\n",
       "    </tr>\n",
       "    <tr>\n",
       "      <th>11</th>\n",
       "      <td>M9B</td>\n",
       "      <td>Etobicoke</td>\n",
       "      <td>West Deane Park / Princess Gardens / Martin Gr...</td>\n",
       "    </tr>\n",
       "    <tr>\n",
       "      <th>12</th>\n",
       "      <td>M1C</td>\n",
       "      <td>Scarborough</td>\n",
       "      <td>Rouge Hill / Port Union / Highland Creek</td>\n",
       "    </tr>\n",
       "    <tr>\n",
       "      <th>13</th>\n",
       "      <td>M3C</td>\n",
       "      <td>North York</td>\n",
       "      <td>Don Mills</td>\n",
       "    </tr>\n",
       "    <tr>\n",
       "      <th>14</th>\n",
       "      <td>M4C</td>\n",
       "      <td>East York</td>\n",
       "      <td>Woodbine Heights</td>\n",
       "    </tr>\n",
       "  </tbody>\n",
       "</table>\n",
       "</div>"
      ],
      "text/plain": [
       "   Postal code           Borough  \\\n",
       "0          M3A        North York   \n",
       "1          M4A        North York   \n",
       "2          M5A  Downtown Toronto   \n",
       "3          M6A        North York   \n",
       "4          M7A  Downtown Toronto   \n",
       "5          M9A         Etobicoke   \n",
       "6          M1B       Scarborough   \n",
       "7          M3B        North York   \n",
       "8          M4B         East York   \n",
       "9          M5B  Downtown Toronto   \n",
       "10         M6B        North York   \n",
       "11         M9B         Etobicoke   \n",
       "12         M1C       Scarborough   \n",
       "13         M3C        North York   \n",
       "14         M4C         East York   \n",
       "\n",
       "                                         Neighborhood  \n",
       "0                                           Parkwoods  \n",
       "1                                    Victoria Village  \n",
       "2                          Regent Park / Harbourfront  \n",
       "3                   Lawrence Manor / Lawrence Heights  \n",
       "4        Queen's Park / Ontario Provincial Government  \n",
       "5                                    Islington Avenue  \n",
       "6                                     Malvern / Rouge  \n",
       "7                                           Don Mills  \n",
       "8                    Parkview Hill / Woodbine Gardens  \n",
       "9                            Garden District, Ryerson  \n",
       "10                                          Glencairn  \n",
       "11  West Deane Park / Princess Gardens / Martin Gr...  \n",
       "12           Rouge Hill / Port Union / Highland Creek  \n",
       "13                                          Don Mills  \n",
       "14                                   Woodbine Heights  "
      ]
     },
     "execution_count": 33,
     "metadata": {},
     "output_type": "execute_result"
    }
   ],
   "source": [
    "# Dropping the rows where Borough is 'Not assigned'\n",
    "df1 = df[df.Borough != 'Not assigned']\n",
    "\n",
    "# Combining the neighbourhoods with same Postalcode\n",
    "df2 = df1.groupby(['Postal code','Borough'], sort=False).agg(', '.join)\n",
    "df2.reset_index(inplace=True)\n",
    "\n",
    "# Replacing the name of the neighbourhoods which are 'Not assigned' with names of Borough\n",
    "df2['Neighborhood'] = np.where(df2['Neighborhood'] == 'Not assigned',df2['Borough'], df2['Neighborhood'])\n",
    "\n",
    "df2.head(15)"
   ]
  },
  {
   "cell_type": "markdown",
   "metadata": {},
   "source": [
    "## Importing the csv file conatining the latitudes and longitudes, and then Merging the two tables to only have one"
   ]
  },
  {
   "cell_type": "code",
   "execution_count": 34,
   "metadata": {},
   "outputs": [
    {
     "data": {
      "text/html": [
       "<div>\n",
       "<style scoped>\n",
       "    .dataframe tbody tr th:only-of-type {\n",
       "        vertical-align: middle;\n",
       "    }\n",
       "\n",
       "    .dataframe tbody tr th {\n",
       "        vertical-align: top;\n",
       "    }\n",
       "\n",
       "    .dataframe thead th {\n",
       "        text-align: right;\n",
       "    }\n",
       "</style>\n",
       "<table border=\"1\" class=\"dataframe\">\n",
       "  <thead>\n",
       "    <tr style=\"text-align: right;\">\n",
       "      <th></th>\n",
       "      <th>Postal Code</th>\n",
       "      <th>Latitude</th>\n",
       "      <th>Longitude</th>\n",
       "    </tr>\n",
       "  </thead>\n",
       "  <tbody>\n",
       "    <tr>\n",
       "      <th>0</th>\n",
       "      <td>M1B</td>\n",
       "      <td>43.806686</td>\n",
       "      <td>-79.194353</td>\n",
       "    </tr>\n",
       "    <tr>\n",
       "      <th>1</th>\n",
       "      <td>M1C</td>\n",
       "      <td>43.784535</td>\n",
       "      <td>-79.160497</td>\n",
       "    </tr>\n",
       "    <tr>\n",
       "      <th>2</th>\n",
       "      <td>M1E</td>\n",
       "      <td>43.763573</td>\n",
       "      <td>-79.188711</td>\n",
       "    </tr>\n",
       "    <tr>\n",
       "      <th>3</th>\n",
       "      <td>M1G</td>\n",
       "      <td>43.770992</td>\n",
       "      <td>-79.216917</td>\n",
       "    </tr>\n",
       "    <tr>\n",
       "      <th>4</th>\n",
       "      <td>M1H</td>\n",
       "      <td>43.773136</td>\n",
       "      <td>-79.239476</td>\n",
       "    </tr>\n",
       "  </tbody>\n",
       "</table>\n",
       "</div>"
      ],
      "text/plain": [
       "  Postal Code   Latitude  Longitude\n",
       "0         M1B  43.806686 -79.194353\n",
       "1         M1C  43.784535 -79.160497\n",
       "2         M1E  43.763573 -79.188711\n",
       "3         M1G  43.770992 -79.216917\n",
       "4         M1H  43.773136 -79.239476"
      ]
     },
     "execution_count": 34,
     "metadata": {},
     "output_type": "execute_result"
    }
   ],
   "source": [
    "lat_lon = pd.read_csv('https://cocl.us/Geospatial_data')\n",
    "lat_lon.head()"
   ]
  },
  {
   "cell_type": "code",
   "execution_count": 43,
   "metadata": {},
   "outputs": [
    {
     "data": {
      "text/html": [
       "<div>\n",
       "<style scoped>\n",
       "    .dataframe tbody tr th:only-of-type {\n",
       "        vertical-align: middle;\n",
       "    }\n",
       "\n",
       "    .dataframe tbody tr th {\n",
       "        vertical-align: top;\n",
       "    }\n",
       "\n",
       "    .dataframe thead th {\n",
       "        text-align: right;\n",
       "    }\n",
       "</style>\n",
       "<table border=\"1\" class=\"dataframe\">\n",
       "  <thead>\n",
       "    <tr style=\"text-align: right;\">\n",
       "      <th></th>\n",
       "      <th>Postal code</th>\n",
       "      <th>Borough</th>\n",
       "      <th>Neighborhood</th>\n",
       "      <th>Latitude</th>\n",
       "      <th>Longitude</th>\n",
       "    </tr>\n",
       "  </thead>\n",
       "  <tbody>\n",
       "    <tr>\n",
       "      <th>0</th>\n",
       "      <td>M3A</td>\n",
       "      <td>North York</td>\n",
       "      <td>Parkwoods</td>\n",
       "      <td>43.753259</td>\n",
       "      <td>-79.329656</td>\n",
       "    </tr>\n",
       "    <tr>\n",
       "      <th>1</th>\n",
       "      <td>M4A</td>\n",
       "      <td>North York</td>\n",
       "      <td>Victoria Village</td>\n",
       "      <td>43.725882</td>\n",
       "      <td>-79.315572</td>\n",
       "    </tr>\n",
       "    <tr>\n",
       "      <th>2</th>\n",
       "      <td>M5A</td>\n",
       "      <td>Downtown Toronto</td>\n",
       "      <td>Regent Park / Harbourfront</td>\n",
       "      <td>43.654260</td>\n",
       "      <td>-79.360636</td>\n",
       "    </tr>\n",
       "    <tr>\n",
       "      <th>3</th>\n",
       "      <td>M6A</td>\n",
       "      <td>North York</td>\n",
       "      <td>Lawrence Manor / Lawrence Heights</td>\n",
       "      <td>43.718518</td>\n",
       "      <td>-79.464763</td>\n",
       "    </tr>\n",
       "    <tr>\n",
       "      <th>4</th>\n",
       "      <td>M7A</td>\n",
       "      <td>Downtown Toronto</td>\n",
       "      <td>Queen's Park / Ontario Provincial Government</td>\n",
       "      <td>43.662301</td>\n",
       "      <td>-79.389494</td>\n",
       "    </tr>\n",
       "    <tr>\n",
       "      <th>5</th>\n",
       "      <td>M9A</td>\n",
       "      <td>Etobicoke</td>\n",
       "      <td>Islington Avenue</td>\n",
       "      <td>43.667856</td>\n",
       "      <td>-79.532242</td>\n",
       "    </tr>\n",
       "    <tr>\n",
       "      <th>6</th>\n",
       "      <td>M1B</td>\n",
       "      <td>Scarborough</td>\n",
       "      <td>Malvern / Rouge</td>\n",
       "      <td>43.806686</td>\n",
       "      <td>-79.194353</td>\n",
       "    </tr>\n",
       "  </tbody>\n",
       "</table>\n",
       "</div>"
      ],
      "text/plain": [
       "  Postal code           Borough                                  Neighborhood  \\\n",
       "0         M3A        North York                                     Parkwoods   \n",
       "1         M4A        North York                              Victoria Village   \n",
       "2         M5A  Downtown Toronto                    Regent Park / Harbourfront   \n",
       "3         M6A        North York             Lawrence Manor / Lawrence Heights   \n",
       "4         M7A  Downtown Toronto  Queen's Park / Ontario Provincial Government   \n",
       "5         M9A         Etobicoke                              Islington Avenue   \n",
       "6         M1B       Scarborough                               Malvern / Rouge   \n",
       "\n",
       "    Latitude  Longitude  \n",
       "0  43.753259 -79.329656  \n",
       "1  43.725882 -79.315572  \n",
       "2  43.654260 -79.360636  \n",
       "3  43.718518 -79.464763  \n",
       "4  43.662301 -79.389494  \n",
       "5  43.667856 -79.532242  \n",
       "6  43.806686 -79.194353  "
      ]
     },
     "execution_count": 43,
     "metadata": {},
     "output_type": "execute_result"
    }
   ],
   "source": [
    "lat_lon.rename(columns={'Postal Code':'Postal code'},inplace=True)\n",
    "df3 = pd.merge(df2,lat_lon,on='Postal code')\n",
    "df3.head(7)"
   ]
  },
  {
   "cell_type": "code",
   "execution_count": 42,
   "metadata": {},
   "outputs": [
    {
     "data": {
      "text/html": [
       "<div>\n",
       "<style scoped>\n",
       "    .dataframe tbody tr th:only-of-type {\n",
       "        vertical-align: middle;\n",
       "    }\n",
       "\n",
       "    .dataframe tbody tr th {\n",
       "        vertical-align: top;\n",
       "    }\n",
       "\n",
       "    .dataframe thead th {\n",
       "        text-align: right;\n",
       "    }\n",
       "</style>\n",
       "<table border=\"1\" class=\"dataframe\">\n",
       "  <thead>\n",
       "    <tr style=\"text-align: right;\">\n",
       "      <th></th>\n",
       "      <th>Postal code</th>\n",
       "      <th>Borough</th>\n",
       "      <th>Neighborhood</th>\n",
       "      <th>Latitude</th>\n",
       "      <th>Longitude</th>\n",
       "    </tr>\n",
       "  </thead>\n",
       "  <tbody>\n",
       "    <tr>\n",
       "      <th>2</th>\n",
       "      <td>M5A</td>\n",
       "      <td>Downtown Toronto</td>\n",
       "      <td>Regent Park / Harbourfront</td>\n",
       "      <td>43.654260</td>\n",
       "      <td>-79.360636</td>\n",
       "    </tr>\n",
       "    <tr>\n",
       "      <th>4</th>\n",
       "      <td>M7A</td>\n",
       "      <td>Downtown Toronto</td>\n",
       "      <td>Queen's Park / Ontario Provincial Government</td>\n",
       "      <td>43.662301</td>\n",
       "      <td>-79.389494</td>\n",
       "    </tr>\n",
       "    <tr>\n",
       "      <th>9</th>\n",
       "      <td>M5B</td>\n",
       "      <td>Downtown Toronto</td>\n",
       "      <td>Garden District, Ryerson</td>\n",
       "      <td>43.657162</td>\n",
       "      <td>-79.378937</td>\n",
       "    </tr>\n",
       "    <tr>\n",
       "      <th>15</th>\n",
       "      <td>M5C</td>\n",
       "      <td>Downtown Toronto</td>\n",
       "      <td>St. James Town</td>\n",
       "      <td>43.651494</td>\n",
       "      <td>-79.375418</td>\n",
       "    </tr>\n",
       "    <tr>\n",
       "      <th>19</th>\n",
       "      <td>M4E</td>\n",
       "      <td>East Toronto</td>\n",
       "      <td>The Beaches</td>\n",
       "      <td>43.676357</td>\n",
       "      <td>-79.293031</td>\n",
       "    </tr>\n",
       "    <tr>\n",
       "      <th>20</th>\n",
       "      <td>M5E</td>\n",
       "      <td>Downtown Toronto</td>\n",
       "      <td>Berczy Park</td>\n",
       "      <td>43.644771</td>\n",
       "      <td>-79.373306</td>\n",
       "    </tr>\n",
       "    <tr>\n",
       "      <th>24</th>\n",
       "      <td>M5G</td>\n",
       "      <td>Downtown Toronto</td>\n",
       "      <td>Central Bay Street</td>\n",
       "      <td>43.657952</td>\n",
       "      <td>-79.387383</td>\n",
       "    </tr>\n",
       "  </tbody>\n",
       "</table>\n",
       "</div>"
      ],
      "text/plain": [
       "   Postal code           Borough  \\\n",
       "2          M5A  Downtown Toronto   \n",
       "4          M7A  Downtown Toronto   \n",
       "9          M5B  Downtown Toronto   \n",
       "15         M5C  Downtown Toronto   \n",
       "19         M4E      East Toronto   \n",
       "20         M5E  Downtown Toronto   \n",
       "24         M5G  Downtown Toronto   \n",
       "\n",
       "                                    Neighborhood   Latitude  Longitude  \n",
       "2                     Regent Park / Harbourfront  43.654260 -79.360636  \n",
       "4   Queen's Park / Ontario Provincial Government  43.662301 -79.389494  \n",
       "9                       Garden District, Ryerson  43.657162 -79.378937  \n",
       "15                                St. James Town  43.651494 -79.375418  \n",
       "19                                   The Beaches  43.676357 -79.293031  \n",
       "20                                   Berczy Park  43.644771 -79.373306  \n",
       "24                            Central Bay Street  43.657952 -79.387383  "
      ]
     },
     "execution_count": 42,
     "metadata": {},
     "output_type": "execute_result"
    }
   ],
   "source": [
    "df4 = df3[df3['Borough'].str.contains('Toronto',regex=False)]\n",
    "df4.head(7)"
   ]
  },
  {
   "cell_type": "markdown",
   "metadata": {},
   "source": [
    "## Visualizing all the Neighbourhoods in the map"
   ]
  },
  {
   "cell_type": "markdown",
   "metadata": {},
   "source": [
    "*If you can't see the map, don't worry, in my repository you can see the pic:* **Neighbourhood_Map**"
   ]
  },
  {
   "cell_type": "code",
   "execution_count": 45,
   "metadata": {},
   "outputs": [
    {
     "data": {
      "text/html": [
       "<div style=\"width:100%;\"><div style=\"position:relative;width:100%;height:0;padding-bottom:60%;\"><iframe src=\"about:blank\" style=\"position:absolute;width:100%;height:100%;left:0;top:0;border:none !important;\" data-html=PCFET0NUWVBFIGh0bWw+CjxoZWFkPiAgICAKICAgIDxtZXRhIGh0dHAtZXF1aXY9ImNvbnRlbnQtdHlwZSIgY29udGVudD0idGV4dC9odG1sOyBjaGFyc2V0PVVURi04IiAvPgogICAgCiAgICAgICAgPHNjcmlwdD4KICAgICAgICAgICAgTF9OT19UT1VDSCA9IGZhbHNlOwogICAgICAgICAgICBMX0RJU0FCTEVfM0QgPSBmYWxzZTsKICAgICAgICA8L3NjcmlwdD4KICAgIAogICAgPHNjcmlwdCBzcmM9Imh0dHBzOi8vY2RuLmpzZGVsaXZyLm5ldC9ucG0vbGVhZmxldEAxLjUuMS9kaXN0L2xlYWZsZXQuanMiPjwvc2NyaXB0PgogICAgPHNjcmlwdCBzcmM9Imh0dHBzOi8vY29kZS5qcXVlcnkuY29tL2pxdWVyeS0xLjEyLjQubWluLmpzIj48L3NjcmlwdD4KICAgIDxzY3JpcHQgc3JjPSJodHRwczovL21heGNkbi5ib290c3RyYXBjZG4uY29tL2Jvb3RzdHJhcC8zLjIuMC9qcy9ib290c3RyYXAubWluLmpzIj48L3NjcmlwdD4KICAgIDxzY3JpcHQgc3JjPSJodHRwczovL2NkbmpzLmNsb3VkZmxhcmUuY29tL2FqYXgvbGlicy9MZWFmbGV0LmF3ZXNvbWUtbWFya2Vycy8yLjAuMi9sZWFmbGV0LmF3ZXNvbWUtbWFya2Vycy5qcyI+PC9zY3JpcHQ+CiAgICA8bGluayByZWw9InN0eWxlc2hlZXQiIGhyZWY9Imh0dHBzOi8vY2RuLmpzZGVsaXZyLm5ldC9ucG0vbGVhZmxldEAxLjUuMS9kaXN0L2xlYWZsZXQuY3NzIi8+CiAgICA8bGluayByZWw9InN0eWxlc2hlZXQiIGhyZWY9Imh0dHBzOi8vbWF4Y2RuLmJvb3RzdHJhcGNkbi5jb20vYm9vdHN0cmFwLzMuMi4wL2Nzcy9ib290c3RyYXAubWluLmNzcyIvPgogICAgPGxpbmsgcmVsPSJzdHlsZXNoZWV0IiBocmVmPSJodHRwczovL21heGNkbi5ib290c3RyYXBjZG4uY29tL2Jvb3RzdHJhcC8zLjIuMC9jc3MvYm9vdHN0cmFwLXRoZW1lLm1pbi5jc3MiLz4KICAgIDxsaW5rIHJlbD0ic3R5bGVzaGVldCIgaHJlZj0iaHR0cHM6Ly9tYXhjZG4uYm9vdHN0cmFwY2RuLmNvbS9mb250LWF3ZXNvbWUvNC42LjMvY3NzL2ZvbnQtYXdlc29tZS5taW4uY3NzIi8+CiAgICA8bGluayByZWw9InN0eWxlc2hlZXQiIGhyZWY9Imh0dHBzOi8vY2RuanMuY2xvdWRmbGFyZS5jb20vYWpheC9saWJzL0xlYWZsZXQuYXdlc29tZS1tYXJrZXJzLzIuMC4yL2xlYWZsZXQuYXdlc29tZS1tYXJrZXJzLmNzcyIvPgogICAgPGxpbmsgcmVsPSJzdHlsZXNoZWV0IiBocmVmPSJodHRwczovL3Jhd2Nkbi5naXRoYWNrLmNvbS9weXRob24tdmlzdWFsaXphdGlvbi9mb2xpdW0vbWFzdGVyL2ZvbGl1bS90ZW1wbGF0ZXMvbGVhZmxldC5hd2Vzb21lLnJvdGF0ZS5jc3MiLz4KICAgIDxzdHlsZT5odG1sLCBib2R5IHt3aWR0aDogMTAwJTtoZWlnaHQ6IDEwMCU7bWFyZ2luOiAwO3BhZGRpbmc6IDA7fTwvc3R5bGU+CiAgICA8c3R5bGU+I21hcCB7cG9zaXRpb246YWJzb2x1dGU7dG9wOjA7Ym90dG9tOjA7cmlnaHQ6MDtsZWZ0OjA7fTwvc3R5bGU+CiAgICAKICAgICAgICAgICAgPG1ldGEgbmFtZT0idmlld3BvcnQiIGNvbnRlbnQ9IndpZHRoPWRldmljZS13aWR0aCwKICAgICAgICAgICAgICAgIGluaXRpYWwtc2NhbGU9MS4wLCBtYXhpbXVtLXNjYWxlPTEuMCwgdXNlci1zY2FsYWJsZT1ubyIgLz4KICAgICAgICAgICAgPHN0eWxlPgogICAgICAgICAgICAgICAgI21hcF81YjY4NDVhMGQ5NjE0ZWEzYjdmYWU5NWM4OGEyYTM4MCB7CiAgICAgICAgICAgICAgICAgICAgcG9zaXRpb246IHJlbGF0aXZlOwogICAgICAgICAgICAgICAgICAgIHdpZHRoOiAxMDAuMCU7CiAgICAgICAgICAgICAgICAgICAgaGVpZ2h0OiAxMDAuMCU7CiAgICAgICAgICAgICAgICAgICAgbGVmdDogMC4wJTsKICAgICAgICAgICAgICAgICAgICB0b3A6IDAuMCU7CiAgICAgICAgICAgICAgICB9CiAgICAgICAgICAgIDwvc3R5bGU+CiAgICAgICAgCjwvaGVhZD4KPGJvZHk+ICAgIAogICAgCiAgICAgICAgICAgIDxkaXYgY2xhc3M9ImZvbGl1bS1tYXAiIGlkPSJtYXBfNWI2ODQ1YTBkOTYxNGVhM2I3ZmFlOTVjODhhMmEzODAiID48L2Rpdj4KICAgICAgICAKPC9ib2R5Pgo8c2NyaXB0PiAgICAKICAgIAogICAgICAgICAgICB2YXIgbWFwXzViNjg0NWEwZDk2MTRlYTNiN2ZhZTk1Yzg4YTJhMzgwID0gTC5tYXAoCiAgICAgICAgICAgICAgICAibWFwXzViNjg0NWEwZDk2MTRlYTNiN2ZhZTk1Yzg4YTJhMzgwIiwKICAgICAgICAgICAgICAgIHsKICAgICAgICAgICAgICAgICAgICBjZW50ZXI6IFs0My42NTEwNywgLTc5LjM0NzAxNV0sCiAgICAgICAgICAgICAgICAgICAgY3JzOiBMLkNSUy5FUFNHMzg1NywKICAgICAgICAgICAgICAgICAgICB6b29tOiAxMCwKICAgICAgICAgICAgICAgICAgICB6b29tQ29udHJvbDogdHJ1ZSwKICAgICAgICAgICAgICAgICAgICBwcmVmZXJDYW52YXM6IGZhbHNlLAogICAgICAgICAgICAgICAgfQogICAgICAgICAgICApOwoKICAgICAgICAgICAgCgogICAgICAgIAogICAgCiAgICAgICAgICAgIHZhciB0aWxlX2xheWVyXzlkNmRjOWU5OGRjZTRkNDE5M2YzZTNmNDM2M2U4N2Q5ID0gTC50aWxlTGF5ZXIoCiAgICAgICAgICAgICAgICAiaHR0cHM6Ly97c30udGlsZS5vcGVuc3RyZWV0bWFwLm9yZy97en0ve3h9L3t5fS5wbmciLAogICAgICAgICAgICAgICAgeyJhdHRyaWJ1dGlvbiI6ICJEYXRhIGJ5IFx1MDAyNmNvcHk7IFx1MDAzY2EgaHJlZj1cImh0dHA6Ly9vcGVuc3RyZWV0bWFwLm9yZ1wiXHUwMDNlT3BlblN0cmVldE1hcFx1MDAzYy9hXHUwMDNlLCB1bmRlciBcdTAwM2NhIGhyZWY9XCJodHRwOi8vd3d3Lm9wZW5zdHJlZXRtYXAub3JnL2NvcHlyaWdodFwiXHUwMDNlT0RiTFx1MDAzYy9hXHUwMDNlLiIsICJkZXRlY3RSZXRpbmEiOiBmYWxzZSwgIm1heE5hdGl2ZVpvb20iOiAxOCwgIm1heFpvb20iOiAxOCwgIm1pblpvb20iOiAwLCAibm9XcmFwIjogZmFsc2UsICJvcGFjaXR5IjogMSwgInN1YmRvbWFpbnMiOiAiYWJjIiwgInRtcyI6IGZhbHNlfQogICAgICAgICAgICApLmFkZFRvKG1hcF81YjY4NDVhMGQ5NjE0ZWEzYjdmYWU5NWM4OGEyYTM4MCk7CiAgICAgICAgCiAgICAKICAgICAgICAgICAgdmFyIGNpcmNsZV9tYXJrZXJfZjkyOWMzNDMwODJlNDNkNjg5MzQ1NDY2ZDkyZWI0YWQgPSBMLmNpcmNsZU1hcmtlcigKICAgICAgICAgICAgICAgIFs0My42NTQyNTk5LCAtNzkuMzYwNjM1OV0sCiAgICAgICAgICAgICAgICB7ImJ1YmJsaW5nTW91c2VFdmVudHMiOiB0cnVlLCAiY29sb3IiOiAiYmx1ZSIsICJkYXNoQXJyYXkiOiBudWxsLCAiZGFzaE9mZnNldCI6IG51bGwsICJmaWxsIjogdHJ1ZSwgImZpbGxDb2xvciI6ICIjMzE4NmNjIiwgImZpbGxPcGFjaXR5IjogMC43LCAiZmlsbFJ1bGUiOiAiZXZlbm9kZCIsICJsaW5lQ2FwIjogInJvdW5kIiwgImxpbmVKb2luIjogInJvdW5kIiwgIm9wYWNpdHkiOiAxLjAsICJyYWRpdXMiOiA1LCAic3Ryb2tlIjogdHJ1ZSwgIndlaWdodCI6IDN9CiAgICAgICAgICAgICkuYWRkVG8obWFwXzViNjg0NWEwZDk2MTRlYTNiN2ZhZTk1Yzg4YTJhMzgwKTsKICAgICAgICAKICAgIAogICAgICAgIHZhciBwb3B1cF9mMTVhZGJjNjJiMWM0YWQ5YTE5OTlmYmY5NjQ4Y2I1NCA9IEwucG9wdXAoeyJtYXhXaWR0aCI6ICIxMDAlIn0pOwoKICAgICAgICAKICAgICAgICAgICAgdmFyIGh0bWxfNWQ3MmQ2NDBmNmZjNDU0Mzg3MmNiMzIwZjJiZjMyMWMgPSAkKGA8ZGl2IGlkPSJodG1sXzVkNzJkNjQwZjZmYzQ1NDM4NzJjYjMyMGYyYmYzMjFjIiBzdHlsZT0id2lkdGg6IDEwMC4wJTsgaGVpZ2h0OiAxMDAuMCU7Ij5SZWdlbnQgUGFyayAvIEhhcmJvdXJmcm9udCwgRG93bnRvd24gVG9yb250bzwvZGl2PmApWzBdOwogICAgICAgICAgICBwb3B1cF9mMTVhZGJjNjJiMWM0YWQ5YTE5OTlmYmY5NjQ4Y2I1NC5zZXRDb250ZW50KGh0bWxfNWQ3MmQ2NDBmNmZjNDU0Mzg3MmNiMzIwZjJiZjMyMWMpOwogICAgICAgIAoKICAgICAgICBjaXJjbGVfbWFya2VyX2Y5MjljMzQzMDgyZTQzZDY4OTM0NTQ2NmQ5MmViNGFkLmJpbmRQb3B1cChwb3B1cF9mMTVhZGJjNjJiMWM0YWQ5YTE5OTlmYmY5NjQ4Y2I1NCkKICAgICAgICA7CgogICAgICAgIAogICAgCiAgICAKICAgICAgICAgICAgdmFyIGNpcmNsZV9tYXJrZXJfYjIyYThjMzk3N2I0NDQ4Nzg5MDJjNDU5ZGEyMjg4N2YgPSBMLmNpcmNsZU1hcmtlcigKICAgICAgICAgICAgICAgIFs0My42NjIzMDE1LCAtNzkuMzg5NDkzOF0sCiAgICAgICAgICAgICAgICB7ImJ1YmJsaW5nTW91c2VFdmVudHMiOiB0cnVlLCAiY29sb3IiOiAiYmx1ZSIsICJkYXNoQXJyYXkiOiBudWxsLCAiZGFzaE9mZnNldCI6IG51bGwsICJmaWxsIjogdHJ1ZSwgImZpbGxDb2xvciI6ICIjMzE4NmNjIiwgImZpbGxPcGFjaXR5IjogMC43LCAiZmlsbFJ1bGUiOiAiZXZlbm9kZCIsICJsaW5lQ2FwIjogInJvdW5kIiwgImxpbmVKb2luIjogInJvdW5kIiwgIm9wYWNpdHkiOiAxLjAsICJyYWRpdXMiOiA1LCAic3Ryb2tlIjogdHJ1ZSwgIndlaWdodCI6IDN9CiAgICAgICAgICAgICkuYWRkVG8obWFwXzViNjg0NWEwZDk2MTRlYTNiN2ZhZTk1Yzg4YTJhMzgwKTsKICAgICAgICAKICAgIAogICAgICAgIHZhciBwb3B1cF9jNzRlMWM0YjM0NjE0MjQyOWU3NThkZmFjNDVjZWFhNiA9IEwucG9wdXAoeyJtYXhXaWR0aCI6ICIxMDAlIn0pOwoKICAgICAgICAKICAgICAgICAgICAgdmFyIGh0bWxfNWE2ODljNjllYTZkNDEyYzg5NzRkODdhMzUzNWY5Y2EgPSAkKGA8ZGl2IGlkPSJodG1sXzVhNjg5YzY5ZWE2ZDQxMmM4OTc0ZDg3YTM1MzVmOWNhIiBzdHlsZT0id2lkdGg6IDEwMC4wJTsgaGVpZ2h0OiAxMDAuMCU7Ij5RdWVlbiYjMzk7cyBQYXJrIC8gT250YXJpbyBQcm92aW5jaWFsIEdvdmVybm1lbnQsIERvd250b3duIFRvcm9udG88L2Rpdj5gKVswXTsKICAgICAgICAgICAgcG9wdXBfYzc0ZTFjNGIzNDYxNDI0MjllNzU4ZGZhYzQ1Y2VhYTYuc2V0Q29udGVudChodG1sXzVhNjg5YzY5ZWE2ZDQxMmM4OTc0ZDg3YTM1MzVmOWNhKTsKICAgICAgICAKCiAgICAgICAgY2lyY2xlX21hcmtlcl9iMjJhOGMzOTc3YjQ0NDg3ODkwMmM0NTlkYTIyODg3Zi5iaW5kUG9wdXAocG9wdXBfYzc0ZTFjNGIzNDYxNDI0MjllNzU4ZGZhYzQ1Y2VhYTYpCiAgICAgICAgOwoKICAgICAgICAKICAgIAogICAgCiAgICAgICAgICAgIHZhciBjaXJjbGVfbWFya2VyXzVkMGU5YzFhMWNlOTQ0NzA4NzVlMTdmZDhmNzVlZjZkID0gTC5jaXJjbGVNYXJrZXIoCiAgICAgICAgICAgICAgICBbNDMuNjU3MTYxOCwgLTc5LjM3ODkzNzA5OTk5OTk5XSwKICAgICAgICAgICAgICAgIHsiYnViYmxpbmdNb3VzZUV2ZW50cyI6IHRydWUsICJjb2xvciI6ICJibHVlIiwgImRhc2hBcnJheSI6IG51bGwsICJkYXNoT2Zmc2V0IjogbnVsbCwgImZpbGwiOiB0cnVlLCAiZmlsbENvbG9yIjogIiMzMTg2Y2MiLCAiZmlsbE9wYWNpdHkiOiAwLjcsICJmaWxsUnVsZSI6ICJldmVub2RkIiwgImxpbmVDYXAiOiAicm91bmQiLCAibGluZUpvaW4iOiAicm91bmQiLCAib3BhY2l0eSI6IDEuMCwgInJhZGl1cyI6IDUsICJzdHJva2UiOiB0cnVlLCAid2VpZ2h0IjogM30KICAgICAgICAgICAgKS5hZGRUbyhtYXBfNWI2ODQ1YTBkOTYxNGVhM2I3ZmFlOTVjODhhMmEzODApOwogICAgICAgIAogICAgCiAgICAgICAgdmFyIHBvcHVwXzA3OWIyOWVmMjU1ZDRkMzZiYjc1NjE2ODczMTM5OGU5ID0gTC5wb3B1cCh7Im1heFdpZHRoIjogIjEwMCUifSk7CgogICAgICAgIAogICAgICAgICAgICB2YXIgaHRtbF83Y2Q1MDBkZTFkZjk0NDBkYmVmN2E1OWNiM2RkYTQyMyA9ICQoYDxkaXYgaWQ9Imh0bWxfN2NkNTAwZGUxZGY5NDQwZGJlZjdhNTljYjNkZGE0MjMiIHN0eWxlPSJ3aWR0aDogMTAwLjAlOyBoZWlnaHQ6IDEwMC4wJTsiPkdhcmRlbiBEaXN0cmljdCwgUnllcnNvbiwgRG93bnRvd24gVG9yb250bzwvZGl2PmApWzBdOwogICAgICAgICAgICBwb3B1cF8wNzliMjllZjI1NWQ0ZDM2YmI3NTYxNjg3MzEzOThlOS5zZXRDb250ZW50KGh0bWxfN2NkNTAwZGUxZGY5NDQwZGJlZjdhNTljYjNkZGE0MjMpOwogICAgICAgIAoKICAgICAgICBjaXJjbGVfbWFya2VyXzVkMGU5YzFhMWNlOTQ0NzA4NzVlMTdmZDhmNzVlZjZkLmJpbmRQb3B1cChwb3B1cF8wNzliMjllZjI1NWQ0ZDM2YmI3NTYxNjg3MzEzOThlOSkKICAgICAgICA7CgogICAgICAgIAogICAgCiAgICAKICAgICAgICAgICAgdmFyIGNpcmNsZV9tYXJrZXJfYzdiOGU0YzRiMmU3NDRmMjgyMWYyMzJlNzk0M2UxOTggPSBMLmNpcmNsZU1hcmtlcigKICAgICAgICAgICAgICAgIFs0My42NTE0OTM5LCAtNzkuMzc1NDE3OV0sCiAgICAgICAgICAgICAgICB7ImJ1YmJsaW5nTW91c2VFdmVudHMiOiB0cnVlLCAiY29sb3IiOiAiYmx1ZSIsICJkYXNoQXJyYXkiOiBudWxsLCAiZGFzaE9mZnNldCI6IG51bGwsICJmaWxsIjogdHJ1ZSwgImZpbGxDb2xvciI6ICIjMzE4NmNjIiwgImZpbGxPcGFjaXR5IjogMC43LCAiZmlsbFJ1bGUiOiAiZXZlbm9kZCIsICJsaW5lQ2FwIjogInJvdW5kIiwgImxpbmVKb2luIjogInJvdW5kIiwgIm9wYWNpdHkiOiAxLjAsICJyYWRpdXMiOiA1LCAic3Ryb2tlIjogdHJ1ZSwgIndlaWdodCI6IDN9CiAgICAgICAgICAgICkuYWRkVG8obWFwXzViNjg0NWEwZDk2MTRlYTNiN2ZhZTk1Yzg4YTJhMzgwKTsKICAgICAgICAKICAgIAogICAgICAgIHZhciBwb3B1cF85NzU4NWI4MTU4MTQ0ZDVjOTA3ZjJhZTAzMjBiNDY4OSA9IEwucG9wdXAoeyJtYXhXaWR0aCI6ICIxMDAlIn0pOwoKICAgICAgICAKICAgICAgICAgICAgdmFyIGh0bWxfZTlkYzAwMjdhOWIzNDg4YmI4OTU4ZmRmMmFlNTExMzkgPSAkKGA8ZGl2IGlkPSJodG1sX2U5ZGMwMDI3YTliMzQ4OGJiODk1OGZkZjJhZTUxMTM5IiBzdHlsZT0id2lkdGg6IDEwMC4wJTsgaGVpZ2h0OiAxMDAuMCU7Ij5TdC4gSmFtZXMgVG93biwgRG93bnRvd24gVG9yb250bzwvZGl2PmApWzBdOwogICAgICAgICAgICBwb3B1cF85NzU4NWI4MTU4MTQ0ZDVjOTA3ZjJhZTAzMjBiNDY4OS5zZXRDb250ZW50KGh0bWxfZTlkYzAwMjdhOWIzNDg4YmI4OTU4ZmRmMmFlNTExMzkpOwogICAgICAgIAoKICAgICAgICBjaXJjbGVfbWFya2VyX2M3YjhlNGM0YjJlNzQ0ZjI4MjFmMjMyZTc5NDNlMTk4LmJpbmRQb3B1cChwb3B1cF85NzU4NWI4MTU4MTQ0ZDVjOTA3ZjJhZTAzMjBiNDY4OSkKICAgICAgICA7CgogICAgICAgIAogICAgCiAgICAKICAgICAgICAgICAgdmFyIGNpcmNsZV9tYXJrZXJfMTBkNWI0YmM3OTcwNDBkNDk3NDEwMzQ1OTk4OGZiOTAgPSBMLmNpcmNsZU1hcmtlcigKICAgICAgICAgICAgICAgIFs0My42NzYzNTczOTk5OTk5OSwgLTc5LjI5MzAzMTJdLAogICAgICAgICAgICAgICAgeyJidWJibGluZ01vdXNlRXZlbnRzIjogdHJ1ZSwgImNvbG9yIjogImJsdWUiLCAiZGFzaEFycmF5IjogbnVsbCwgImRhc2hPZmZzZXQiOiBudWxsLCAiZmlsbCI6IHRydWUsICJmaWxsQ29sb3IiOiAiIzMxODZjYyIsICJmaWxsT3BhY2l0eSI6IDAuNywgImZpbGxSdWxlIjogImV2ZW5vZGQiLCAibGluZUNhcCI6ICJyb3VuZCIsICJsaW5lSm9pbiI6ICJyb3VuZCIsICJvcGFjaXR5IjogMS4wLCAicmFkaXVzIjogNSwgInN0cm9rZSI6IHRydWUsICJ3ZWlnaHQiOiAzfQogICAgICAgICAgICApLmFkZFRvKG1hcF81YjY4NDVhMGQ5NjE0ZWEzYjdmYWU5NWM4OGEyYTM4MCk7CiAgICAgICAgCiAgICAKICAgICAgICB2YXIgcG9wdXBfOWYxN2Y1NzY2NGUxNDk3MzliOTE3YzAwNmYxMmU2ZmMgPSBMLnBvcHVwKHsibWF4V2lkdGgiOiAiMTAwJSJ9KTsKCiAgICAgICAgCiAgICAgICAgICAgIHZhciBodG1sX2IxMjZiZDAyYTJkMjQ3YmZhMGQ3ZDMzNmI5NjgwYmM3ID0gJChgPGRpdiBpZD0iaHRtbF9iMTI2YmQwMmEyZDI0N2JmYTBkN2QzMzZiOTY4MGJjNyIgc3R5bGU9IndpZHRoOiAxMDAuMCU7IGhlaWdodDogMTAwLjAlOyI+VGhlIEJlYWNoZXMsIEVhc3QgVG9yb250bzwvZGl2PmApWzBdOwogICAgICAgICAgICBwb3B1cF85ZjE3ZjU3NjY0ZTE0OTczOWI5MTdjMDA2ZjEyZTZmYy5zZXRDb250ZW50KGh0bWxfYjEyNmJkMDJhMmQyNDdiZmEwZDdkMzM2Yjk2ODBiYzcpOwogICAgICAgIAoKICAgICAgICBjaXJjbGVfbWFya2VyXzEwZDViNGJjNzk3MDQwZDQ5NzQxMDM0NTk5ODhmYjkwLmJpbmRQb3B1cChwb3B1cF85ZjE3ZjU3NjY0ZTE0OTczOWI5MTdjMDA2ZjEyZTZmYykKICAgICAgICA7CgogICAgICAgIAogICAgCiAgICAKICAgICAgICAgICAgdmFyIGNpcmNsZV9tYXJrZXJfOWQ0YmFjYjg3MmM0NDA2NTlhNTc5ZTE1ZDcwOWVkYzQgPSBMLmNpcmNsZU1hcmtlcigKICAgICAgICAgICAgICAgIFs0My42NDQ3NzA3OTk5OTk5OTYsIC03OS4zNzMzMDY0XSwKICAgICAgICAgICAgICAgIHsiYnViYmxpbmdNb3VzZUV2ZW50cyI6IHRydWUsICJjb2xvciI6ICJibHVlIiwgImRhc2hBcnJheSI6IG51bGwsICJkYXNoT2Zmc2V0IjogbnVsbCwgImZpbGwiOiB0cnVlLCAiZmlsbENvbG9yIjogIiMzMTg2Y2MiLCAiZmlsbE9wYWNpdHkiOiAwLjcsICJmaWxsUnVsZSI6ICJldmVub2RkIiwgImxpbmVDYXAiOiAicm91bmQiLCAibGluZUpvaW4iOiAicm91bmQiLCAib3BhY2l0eSI6IDEuMCwgInJhZGl1cyI6IDUsICJzdHJva2UiOiB0cnVlLCAid2VpZ2h0IjogM30KICAgICAgICAgICAgKS5hZGRUbyhtYXBfNWI2ODQ1YTBkOTYxNGVhM2I3ZmFlOTVjODhhMmEzODApOwogICAgICAgIAogICAgCiAgICAgICAgdmFyIHBvcHVwX2M0MGYwMzdhYzc5ZDQ5NGRiMjdjMDk4YjM4ZGMxMzVmID0gTC5wb3B1cCh7Im1heFdpZHRoIjogIjEwMCUifSk7CgogICAgICAgIAogICAgICAgICAgICB2YXIgaHRtbF8yYWIzOTk0Y2VjYWQ0NGZkODZkZmFlMjBjMzEyMWQyYiA9ICQoYDxkaXYgaWQ9Imh0bWxfMmFiMzk5NGNlY2FkNDRmZDg2ZGZhZTIwYzMxMjFkMmIiIHN0eWxlPSJ3aWR0aDogMTAwLjAlOyBoZWlnaHQ6IDEwMC4wJTsiPkJlcmN6eSBQYXJrLCBEb3dudG93biBUb3JvbnRvPC9kaXY+YClbMF07CiAgICAgICAgICAgIHBvcHVwX2M0MGYwMzdhYzc5ZDQ5NGRiMjdjMDk4YjM4ZGMxMzVmLnNldENvbnRlbnQoaHRtbF8yYWIzOTk0Y2VjYWQ0NGZkODZkZmFlMjBjMzEyMWQyYik7CiAgICAgICAgCgogICAgICAgIGNpcmNsZV9tYXJrZXJfOWQ0YmFjYjg3MmM0NDA2NTlhNTc5ZTE1ZDcwOWVkYzQuYmluZFBvcHVwKHBvcHVwX2M0MGYwMzdhYzc5ZDQ5NGRiMjdjMDk4YjM4ZGMxMzVmKQogICAgICAgIDsKCiAgICAgICAgCiAgICAKICAgIAogICAgICAgICAgICB2YXIgY2lyY2xlX21hcmtlcl83NDgyNzI0NzE5Mzc0NGZlYmMxZjNkMTI3ZGVmNGY2ZCA9IEwuY2lyY2xlTWFya2VyKAogICAgICAgICAgICAgICAgWzQzLjY1Nzk1MjQsIC03OS4zODczODI2XSwKICAgICAgICAgICAgICAgIHsiYnViYmxpbmdNb3VzZUV2ZW50cyI6IHRydWUsICJjb2xvciI6ICJibHVlIiwgImRhc2hBcnJheSI6IG51bGwsICJkYXNoT2Zmc2V0IjogbnVsbCwgImZpbGwiOiB0cnVlLCAiZmlsbENvbG9yIjogIiMzMTg2Y2MiLCAiZmlsbE9wYWNpdHkiOiAwLjcsICJmaWxsUnVsZSI6ICJldmVub2RkIiwgImxpbmVDYXAiOiAicm91bmQiLCAibGluZUpvaW4iOiAicm91bmQiLCAib3BhY2l0eSI6IDEuMCwgInJhZGl1cyI6IDUsICJzdHJva2UiOiB0cnVlLCAid2VpZ2h0IjogM30KICAgICAgICAgICAgKS5hZGRUbyhtYXBfNWI2ODQ1YTBkOTYxNGVhM2I3ZmFlOTVjODhhMmEzODApOwogICAgICAgIAogICAgCiAgICAgICAgdmFyIHBvcHVwXzUwMGQzYzYxZDY0ZjRkMzlhYjdlNzJiZTU5NzNmMDc1ID0gTC5wb3B1cCh7Im1heFdpZHRoIjogIjEwMCUifSk7CgogICAgICAgIAogICAgICAgICAgICB2YXIgaHRtbF9iOTdlOGI2OGViYjk0YzFkYTY4MDYxNzY4OTIxY2NjOCA9ICQoYDxkaXYgaWQ9Imh0bWxfYjk3ZThiNjhlYmI5NGMxZGE2ODA2MTc2ODkyMWNjYzgiIHN0eWxlPSJ3aWR0aDogMTAwLjAlOyBoZWlnaHQ6IDEwMC4wJTsiPkNlbnRyYWwgQmF5IFN0cmVldCwgRG93bnRvd24gVG9yb250bzwvZGl2PmApWzBdOwogICAgICAgICAgICBwb3B1cF81MDBkM2M2MWQ2NGY0ZDM5YWI3ZTcyYmU1OTczZjA3NS5zZXRDb250ZW50KGh0bWxfYjk3ZThiNjhlYmI5NGMxZGE2ODA2MTc2ODkyMWNjYzgpOwogICAgICAgIAoKICAgICAgICBjaXJjbGVfbWFya2VyXzc0ODI3MjQ3MTkzNzQ0ZmViYzFmM2QxMjdkZWY0ZjZkLmJpbmRQb3B1cChwb3B1cF81MDBkM2M2MWQ2NGY0ZDM5YWI3ZTcyYmU1OTczZjA3NSkKICAgICAgICA7CgogICAgICAgIAogICAgCiAgICAKICAgICAgICAgICAgdmFyIGNpcmNsZV9tYXJrZXJfZWYxZGU1ZjkxNzcyNDU2YjlmNzEyYTk5NDlhNzI3ODAgPSBMLmNpcmNsZU1hcmtlcigKICAgICAgICAgICAgICAgIFs0My42Njk1NDIsIC03OS40MjI1NjM3XSwKICAgICAgICAgICAgICAgIHsiYnViYmxpbmdNb3VzZUV2ZW50cyI6IHRydWUsICJjb2xvciI6ICJibHVlIiwgImRhc2hBcnJheSI6IG51bGwsICJkYXNoT2Zmc2V0IjogbnVsbCwgImZpbGwiOiB0cnVlLCAiZmlsbENvbG9yIjogIiMzMTg2Y2MiLCAiZmlsbE9wYWNpdHkiOiAwLjcsICJmaWxsUnVsZSI6ICJldmVub2RkIiwgImxpbmVDYXAiOiAicm91bmQiLCAibGluZUpvaW4iOiAicm91bmQiLCAib3BhY2l0eSI6IDEuMCwgInJhZGl1cyI6IDUsICJzdHJva2UiOiB0cnVlLCAid2VpZ2h0IjogM30KICAgICAgICAgICAgKS5hZGRUbyhtYXBfNWI2ODQ1YTBkOTYxNGVhM2I3ZmFlOTVjODhhMmEzODApOwogICAgICAgIAogICAgCiAgICAgICAgdmFyIHBvcHVwXzVmMDIyNTJjNWMzNDQ2NDE4ZGI5ZTIyZjE5MWExYjE1ID0gTC5wb3B1cCh7Im1heFdpZHRoIjogIjEwMCUifSk7CgogICAgICAgIAogICAgICAgICAgICB2YXIgaHRtbF80MzdjNmQxODk1MmI0ZGZjYTU1ZTgyMjIwNzI5OTg2OCA9ICQoYDxkaXYgaWQ9Imh0bWxfNDM3YzZkMTg5NTJiNGRmY2E1NWU4MjIyMDcyOTk4NjgiIHN0eWxlPSJ3aWR0aDogMTAwLjAlOyBoZWlnaHQ6IDEwMC4wJTsiPkNocmlzdGllLCBEb3dudG93biBUb3JvbnRvPC9kaXY+YClbMF07CiAgICAgICAgICAgIHBvcHVwXzVmMDIyNTJjNWMzNDQ2NDE4ZGI5ZTIyZjE5MWExYjE1LnNldENvbnRlbnQoaHRtbF80MzdjNmQxODk1MmI0ZGZjYTU1ZTgyMjIwNzI5OTg2OCk7CiAgICAgICAgCgogICAgICAgIGNpcmNsZV9tYXJrZXJfZWYxZGU1ZjkxNzcyNDU2YjlmNzEyYTk5NDlhNzI3ODAuYmluZFBvcHVwKHBvcHVwXzVmMDIyNTJjNWMzNDQ2NDE4ZGI5ZTIyZjE5MWExYjE1KQogICAgICAgIDsKCiAgICAgICAgCiAgICAKICAgIAogICAgICAgICAgICB2YXIgY2lyY2xlX21hcmtlcl8zZmY0MzgxNGRiNWQ0OGVjOTFiNGQzYTUyZjJhNWIzNSA9IEwuY2lyY2xlTWFya2VyKAogICAgICAgICAgICAgICAgWzQzLjY1MDU3MTIwMDAwMDAxLCAtNzkuMzg0NTY3NV0sCiAgICAgICAgICAgICAgICB7ImJ1YmJsaW5nTW91c2VFdmVudHMiOiB0cnVlLCAiY29sb3IiOiAiYmx1ZSIsICJkYXNoQXJyYXkiOiBudWxsLCAiZGFzaE9mZnNldCI6IG51bGwsICJmaWxsIjogdHJ1ZSwgImZpbGxDb2xvciI6ICIjMzE4NmNjIiwgImZpbGxPcGFjaXR5IjogMC43LCAiZmlsbFJ1bGUiOiAiZXZlbm9kZCIsICJsaW5lQ2FwIjogInJvdW5kIiwgImxpbmVKb2luIjogInJvdW5kIiwgIm9wYWNpdHkiOiAxLjAsICJyYWRpdXMiOiA1LCAic3Ryb2tlIjogdHJ1ZSwgIndlaWdodCI6IDN9CiAgICAgICAgICAgICkuYWRkVG8obWFwXzViNjg0NWEwZDk2MTRlYTNiN2ZhZTk1Yzg4YTJhMzgwKTsKICAgICAgICAKICAgIAogICAgICAgIHZhciBwb3B1cF8zOTkwYjBiOWZmZDA0Y2EzODNkOGNmODkyOGY1ZGExOCA9IEwucG9wdXAoeyJtYXhXaWR0aCI6ICIxMDAlIn0pOwoKICAgICAgICAKICAgICAgICAgICAgdmFyIGh0bWxfOWU1Y2NiMTViMjllNDIzMGJhMjNjMTI5MjA1YTk0YWIgPSAkKGA8ZGl2IGlkPSJodG1sXzllNWNjYjE1YjI5ZTQyMzBiYTIzYzEyOTIwNWE5NGFiIiBzdHlsZT0id2lkdGg6IDEwMC4wJTsgaGVpZ2h0OiAxMDAuMCU7Ij5SaWNobW9uZCAvIEFkZWxhaWRlIC8gS2luZywgRG93bnRvd24gVG9yb250bzwvZGl2PmApWzBdOwogICAgICAgICAgICBwb3B1cF8zOTkwYjBiOWZmZDA0Y2EzODNkOGNmODkyOGY1ZGExOC5zZXRDb250ZW50KGh0bWxfOWU1Y2NiMTViMjllNDIzMGJhMjNjMTI5MjA1YTk0YWIpOwogICAgICAgIAoKICAgICAgICBjaXJjbGVfbWFya2VyXzNmZjQzODE0ZGI1ZDQ4ZWM5MWI0ZDNhNTJmMmE1YjM1LmJpbmRQb3B1cChwb3B1cF8zOTkwYjBiOWZmZDA0Y2EzODNkOGNmODkyOGY1ZGExOCkKICAgICAgICA7CgogICAgICAgIAogICAgCiAgICAKICAgICAgICAgICAgdmFyIGNpcmNsZV9tYXJrZXJfZWE0MDlhYzE1ZTljNGZkOTlhNmM1ZWU4NWJjNDg0MTUgPSBMLmNpcmNsZU1hcmtlcigKICAgICAgICAgICAgICAgIFs0My42NjkwMDUxMDAwMDAwMSwgLTc5LjQ0MjI1OTNdLAogICAgICAgICAgICAgICAgeyJidWJibGluZ01vdXNlRXZlbnRzIjogdHJ1ZSwgImNvbG9yIjogImJsdWUiLCAiZGFzaEFycmF5IjogbnVsbCwgImRhc2hPZmZzZXQiOiBudWxsLCAiZmlsbCI6IHRydWUsICJmaWxsQ29sb3IiOiAiIzMxODZjYyIsICJmaWxsT3BhY2l0eSI6IDAuNywgImZpbGxSdWxlIjogImV2ZW5vZGQiLCAibGluZUNhcCI6ICJyb3VuZCIsICJsaW5lSm9pbiI6ICJyb3VuZCIsICJvcGFjaXR5IjogMS4wLCAicmFkaXVzIjogNSwgInN0cm9rZSI6IHRydWUsICJ3ZWlnaHQiOiAzfQogICAgICAgICAgICApLmFkZFRvKG1hcF81YjY4NDVhMGQ5NjE0ZWEzYjdmYWU5NWM4OGEyYTM4MCk7CiAgICAgICAgCiAgICAKICAgICAgICB2YXIgcG9wdXBfZDYxMzliNTA0ZmY5NDgzNzkxZDNmYzk0OTNiYzVkNTAgPSBMLnBvcHVwKHsibWF4V2lkdGgiOiAiMTAwJSJ9KTsKCiAgICAgICAgCiAgICAgICAgICAgIHZhciBodG1sXzAzMGU4YTdkNTVhMzQ4MDlhZjA5Y2YwZDgzNWY3MmU0ID0gJChgPGRpdiBpZD0iaHRtbF8wMzBlOGE3ZDU1YTM0ODA5YWYwOWNmMGQ4MzVmNzJlNCIgc3R5bGU9IndpZHRoOiAxMDAuMCU7IGhlaWdodDogMTAwLjAlOyI+RHVmZmVyaW4gLyBEb3ZlcmNvdXJ0IFZpbGxhZ2UsIFdlc3QgVG9yb250bzwvZGl2PmApWzBdOwogICAgICAgICAgICBwb3B1cF9kNjEzOWI1MDRmZjk0ODM3OTFkM2ZjOTQ5M2JjNWQ1MC5zZXRDb250ZW50KGh0bWxfMDMwZThhN2Q1NWEzNDgwOWFmMDljZjBkODM1ZjcyZTQpOwogICAgICAgIAoKICAgICAgICBjaXJjbGVfbWFya2VyX2VhNDA5YWMxNWU5YzRmZDk5YTZjNWVlODViYzQ4NDE1LmJpbmRQb3B1cChwb3B1cF9kNjEzOWI1MDRmZjk0ODM3OTFkM2ZjOTQ5M2JjNWQ1MCkKICAgICAgICA7CgogICAgICAgIAogICAgCiAgICAKICAgICAgICAgICAgdmFyIGNpcmNsZV9tYXJrZXJfM2M3YmQyNmFhNzBmNGQ3NGFhNzZkODkyNzNjYzc2MDcgPSBMLmNpcmNsZU1hcmtlcigKICAgICAgICAgICAgICAgIFs0My42NDA4MTU3LCAtNzkuMzgxNzUyMjk5OTk5OTldLAogICAgICAgICAgICAgICAgeyJidWJibGluZ01vdXNlRXZlbnRzIjogdHJ1ZSwgImNvbG9yIjogImJsdWUiLCAiZGFzaEFycmF5IjogbnVsbCwgImRhc2hPZmZzZXQiOiBudWxsLCAiZmlsbCI6IHRydWUsICJmaWxsQ29sb3IiOiAiIzMxODZjYyIsICJmaWxsT3BhY2l0eSI6IDAuNywgImZpbGxSdWxlIjogImV2ZW5vZGQiLCAibGluZUNhcCI6ICJyb3VuZCIsICJsaW5lSm9pbiI6ICJyb3VuZCIsICJvcGFjaXR5IjogMS4wLCAicmFkaXVzIjogNSwgInN0cm9rZSI6IHRydWUsICJ3ZWlnaHQiOiAzfQogICAgICAgICAgICApLmFkZFRvKG1hcF81YjY4NDVhMGQ5NjE0ZWEzYjdmYWU5NWM4OGEyYTM4MCk7CiAgICAgICAgCiAgICAKICAgICAgICB2YXIgcG9wdXBfZjVjN2ZmMWQwMGE1NDgwMzhlOWYzNTZhNTdmYjllMTEgPSBMLnBvcHVwKHsibWF4V2lkdGgiOiAiMTAwJSJ9KTsKCiAgICAgICAgCiAgICAgICAgICAgIHZhciBodG1sXzFiMzlmMTZkMWNmMTRmNGU5NWI5MjBjNzM0NGUxODY2ID0gJChgPGRpdiBpZD0iaHRtbF8xYjM5ZjE2ZDFjZjE0ZjRlOTViOTIwYzczNDRlMTg2NiIgc3R5bGU9IndpZHRoOiAxMDAuMCU7IGhlaWdodDogMTAwLjAlOyI+SGFyYm91cmZyb250IEVhc3QgLyBVbmlvbiBTdGF0aW9uIC8gVG9yb250byBJc2xhbmRzLCBEb3dudG93biBUb3JvbnRvPC9kaXY+YClbMF07CiAgICAgICAgICAgIHBvcHVwX2Y1YzdmZjFkMDBhNTQ4MDM4ZTlmMzU2YTU3ZmI5ZTExLnNldENvbnRlbnQoaHRtbF8xYjM5ZjE2ZDFjZjE0ZjRlOTViOTIwYzczNDRlMTg2Nik7CiAgICAgICAgCgogICAgICAgIGNpcmNsZV9tYXJrZXJfM2M3YmQyNmFhNzBmNGQ3NGFhNzZkODkyNzNjYzc2MDcuYmluZFBvcHVwKHBvcHVwX2Y1YzdmZjFkMDBhNTQ4MDM4ZTlmMzU2YTU3ZmI5ZTExKQogICAgICAgIDsKCiAgICAgICAgCiAgICAKICAgIAogICAgICAgICAgICB2YXIgY2lyY2xlX21hcmtlcl80YjJlNTJiYTNkYTI0MzM3YTVmZDBlMWIxNjA4MjEyOSA9IEwuY2lyY2xlTWFya2VyKAogICAgICAgICAgICAgICAgWzQzLjY0NzkyNjcwMDAwMDAwNiwgLTc5LjQxOTc0OTddLAogICAgICAgICAgICAgICAgeyJidWJibGluZ01vdXNlRXZlbnRzIjogdHJ1ZSwgImNvbG9yIjogImJsdWUiLCAiZGFzaEFycmF5IjogbnVsbCwgImRhc2hPZmZzZXQiOiBudWxsLCAiZmlsbCI6IHRydWUsICJmaWxsQ29sb3IiOiAiIzMxODZjYyIsICJmaWxsT3BhY2l0eSI6IDAuNywgImZpbGxSdWxlIjogImV2ZW5vZGQiLCAibGluZUNhcCI6ICJyb3VuZCIsICJsaW5lSm9pbiI6ICJyb3VuZCIsICJvcGFjaXR5IjogMS4wLCAicmFkaXVzIjogNSwgInN0cm9rZSI6IHRydWUsICJ3ZWlnaHQiOiAzfQogICAgICAgICAgICApLmFkZFRvKG1hcF81YjY4NDVhMGQ5NjE0ZWEzYjdmYWU5NWM4OGEyYTM4MCk7CiAgICAgICAgCiAgICAKICAgICAgICB2YXIgcG9wdXBfOTg4MDMzMjkxZDExNDFhNjg5NGZkNjEwZDVhNDVkOGIgPSBMLnBvcHVwKHsibWF4V2lkdGgiOiAiMTAwJSJ9KTsKCiAgICAgICAgCiAgICAgICAgICAgIHZhciBodG1sXzZmMTFmY2QwYjc0MzRlNzY5M2Y3Njg2OTNkMjkzNDMzID0gJChgPGRpdiBpZD0iaHRtbF82ZjExZmNkMGI3NDM0ZTc2OTNmNzY4NjkzZDI5MzQzMyIgc3R5bGU9IndpZHRoOiAxMDAuMCU7IGhlaWdodDogMTAwLjAlOyI+TGl0dGxlIFBvcnR1Z2FsIC8gVHJpbml0eSwgV2VzdCBUb3JvbnRvPC9kaXY+YClbMF07CiAgICAgICAgICAgIHBvcHVwXzk4ODAzMzI5MWQxMTQxYTY4OTRmZDYxMGQ1YTQ1ZDhiLnNldENvbnRlbnQoaHRtbF82ZjExZmNkMGI3NDM0ZTc2OTNmNzY4NjkzZDI5MzQzMyk7CiAgICAgICAgCgogICAgICAgIGNpcmNsZV9tYXJrZXJfNGIyZTUyYmEzZGEyNDMzN2E1ZmQwZTFiMTYwODIxMjkuYmluZFBvcHVwKHBvcHVwXzk4ODAzMzI5MWQxMTQxYTY4OTRmZDYxMGQ1YTQ1ZDhiKQogICAgICAgIDsKCiAgICAgICAgCiAgICAKICAgIAogICAgICAgICAgICB2YXIgY2lyY2xlX21hcmtlcl81ZTA2NGEzOWJiNTk0NmJiODZmYTk0MjU1NzljYjE3YSA9IEwuY2lyY2xlTWFya2VyKAogICAgICAgICAgICAgICAgWzQzLjY3OTU1NzEsIC03OS4zNTIxODhdLAogICAgICAgICAgICAgICAgeyJidWJibGluZ01vdXNlRXZlbnRzIjogdHJ1ZSwgImNvbG9yIjogImJsdWUiLCAiZGFzaEFycmF5IjogbnVsbCwgImRhc2hPZmZzZXQiOiBudWxsLCAiZmlsbCI6IHRydWUsICJmaWxsQ29sb3IiOiAiIzMxODZjYyIsICJmaWxsT3BhY2l0eSI6IDAuNywgImZpbGxSdWxlIjogImV2ZW5vZGQiLCAibGluZUNhcCI6ICJyb3VuZCIsICJsaW5lSm9pbiI6ICJyb3VuZCIsICJvcGFjaXR5IjogMS4wLCAicmFkaXVzIjogNSwgInN0cm9rZSI6IHRydWUsICJ3ZWlnaHQiOiAzfQogICAgICAgICAgICApLmFkZFRvKG1hcF81YjY4NDVhMGQ5NjE0ZWEzYjdmYWU5NWM4OGEyYTM4MCk7CiAgICAgICAgCiAgICAKICAgICAgICB2YXIgcG9wdXBfMTQ4ZGZiZjIwM2Q5NDgzOWIzZjllNWI0NDg3NTIwNDcgPSBMLnBvcHVwKHsibWF4V2lkdGgiOiAiMTAwJSJ9KTsKCiAgICAgICAgCiAgICAgICAgICAgIHZhciBodG1sX2ZjOThlZGRhYWU1MjQ1NWRiYmE1MmFjYmNjYWE2MGYzID0gJChgPGRpdiBpZD0iaHRtbF9mYzk4ZWRkYWFlNTI0NTVkYmJhNTJhY2JjY2FhNjBmMyIgc3R5bGU9IndpZHRoOiAxMDAuMCU7IGhlaWdodDogMTAwLjAlOyI+VGhlIERhbmZvcnRoIFdlc3QgLyBSaXZlcmRhbGUsIEVhc3QgVG9yb250bzwvZGl2PmApWzBdOwogICAgICAgICAgICBwb3B1cF8xNDhkZmJmMjAzZDk0ODM5YjNmOWU1YjQ0ODc1MjA0Ny5zZXRDb250ZW50KGh0bWxfZmM5OGVkZGFhZTUyNDU1ZGJiYTUyYWNiY2NhYTYwZjMpOwogICAgICAgIAoKICAgICAgICBjaXJjbGVfbWFya2VyXzVlMDY0YTM5YmI1OTQ2YmI4NmZhOTQyNTU3OWNiMTdhLmJpbmRQb3B1cChwb3B1cF8xNDhkZmJmMjAzZDk0ODM5YjNmOWU1YjQ0ODc1MjA0NykKICAgICAgICA7CgogICAgICAgIAogICAgCiAgICAKICAgICAgICAgICAgdmFyIGNpcmNsZV9tYXJrZXJfMWEyOWFjODQ1MGE5NGJhYWEwZjNmYTY0YWZjNzg1OTQgPSBMLmNpcmNsZU1hcmtlcigKICAgICAgICAgICAgICAgIFs0My42NDcxNzY4LCAtNzkuMzgxNTc2NDAwMDAwMDFdLAogICAgICAgICAgICAgICAgeyJidWJibGluZ01vdXNlRXZlbnRzIjogdHJ1ZSwgImNvbG9yIjogImJsdWUiLCAiZGFzaEFycmF5IjogbnVsbCwgImRhc2hPZmZzZXQiOiBudWxsLCAiZmlsbCI6IHRydWUsICJmaWxsQ29sb3IiOiAiIzMxODZjYyIsICJmaWxsT3BhY2l0eSI6IDAuNywgImZpbGxSdWxlIjogImV2ZW5vZGQiLCAibGluZUNhcCI6ICJyb3VuZCIsICJsaW5lSm9pbiI6ICJyb3VuZCIsICJvcGFjaXR5IjogMS4wLCAicmFkaXVzIjogNSwgInN0cm9rZSI6IHRydWUsICJ3ZWlnaHQiOiAzfQogICAgICAgICAgICApLmFkZFRvKG1hcF81YjY4NDVhMGQ5NjE0ZWEzYjdmYWU5NWM4OGEyYTM4MCk7CiAgICAgICAgCiAgICAKICAgICAgICB2YXIgcG9wdXBfZTUwYzI0NTUyYjUzNDY2ZWI4MWJkMzk0NzAxMmE3YTQgPSBMLnBvcHVwKHsibWF4V2lkdGgiOiAiMTAwJSJ9KTsKCiAgICAgICAgCiAgICAgICAgICAgIHZhciBodG1sXzNiMDJjZjVmMmY5OTQ0MzI5NmU3YTU0ZmJmMDFjN2ViID0gJChgPGRpdiBpZD0iaHRtbF8zYjAyY2Y1ZjJmOTk0NDMyOTZlN2E1NGZiZjAxYzdlYiIgc3R5bGU9IndpZHRoOiAxMDAuMCU7IGhlaWdodDogMTAwLjAlOyI+VG9yb250byBEb21pbmlvbiBDZW50cmUgLyBEZXNpZ24gRXhjaGFuZ2UsIERvd250b3duIFRvcm9udG88L2Rpdj5gKVswXTsKICAgICAgICAgICAgcG9wdXBfZTUwYzI0NTUyYjUzNDY2ZWI4MWJkMzk0NzAxMmE3YTQuc2V0Q29udGVudChodG1sXzNiMDJjZjVmMmY5OTQ0MzI5NmU3YTU0ZmJmMDFjN2ViKTsKICAgICAgICAKCiAgICAgICAgY2lyY2xlX21hcmtlcl8xYTI5YWM4NDUwYTk0YmFhYTBmM2ZhNjRhZmM3ODU5NC5iaW5kUG9wdXAocG9wdXBfZTUwYzI0NTUyYjUzNDY2ZWI4MWJkMzk0NzAxMmE3YTQpCiAgICAgICAgOwoKICAgICAgICAKICAgIAogICAgCiAgICAgICAgICAgIHZhciBjaXJjbGVfbWFya2VyX2YxZmNiYWEyNDNjNjQ1ZWFiNTI5ZTE2ZmMxYjNmZTcyID0gTC5jaXJjbGVNYXJrZXIoCiAgICAgICAgICAgICAgICBbNDMuNjM2ODQ3MiwgLTc5LjQyODE5MTQwMDAwMDAyXSwKICAgICAgICAgICAgICAgIHsiYnViYmxpbmdNb3VzZUV2ZW50cyI6IHRydWUsICJjb2xvciI6ICJibHVlIiwgImRhc2hBcnJheSI6IG51bGwsICJkYXNoT2Zmc2V0IjogbnVsbCwgImZpbGwiOiB0cnVlLCAiZmlsbENvbG9yIjogIiMzMTg2Y2MiLCAiZmlsbE9wYWNpdHkiOiAwLjcsICJmaWxsUnVsZSI6ICJldmVub2RkIiwgImxpbmVDYXAiOiAicm91bmQiLCAibGluZUpvaW4iOiAicm91bmQiLCAib3BhY2l0eSI6IDEuMCwgInJhZGl1cyI6IDUsICJzdHJva2UiOiB0cnVlLCAid2VpZ2h0IjogM30KICAgICAgICAgICAgKS5hZGRUbyhtYXBfNWI2ODQ1YTBkOTYxNGVhM2I3ZmFlOTVjODhhMmEzODApOwogICAgICAgIAogICAgCiAgICAgICAgdmFyIHBvcHVwX2EyMGVkZmRhOTcyMjQwYjc4ZjY1MGY5OThjZjI0YzA0ID0gTC5wb3B1cCh7Im1heFdpZHRoIjogIjEwMCUifSk7CgogICAgICAgIAogICAgICAgICAgICB2YXIgaHRtbF8wMWM5ODZlNzQ0YTY0NTUzYTE5ODA1YzQwNjgzOWE0MSA9ICQoYDxkaXYgaWQ9Imh0bWxfMDFjOTg2ZTc0NGE2NDU1M2ExOTgwNWM0MDY4MzlhNDEiIHN0eWxlPSJ3aWR0aDogMTAwLjAlOyBoZWlnaHQ6IDEwMC4wJTsiPkJyb2NrdG9uIC8gUGFya2RhbGUgVmlsbGFnZSAvIEV4aGliaXRpb24gUGxhY2UsIFdlc3QgVG9yb250bzwvZGl2PmApWzBdOwogICAgICAgICAgICBwb3B1cF9hMjBlZGZkYTk3MjI0MGI3OGY2NTBmOTk4Y2YyNGMwNC5zZXRDb250ZW50KGh0bWxfMDFjOTg2ZTc0NGE2NDU1M2ExOTgwNWM0MDY4MzlhNDEpOwogICAgICAgIAoKICAgICAgICBjaXJjbGVfbWFya2VyX2YxZmNiYWEyNDNjNjQ1ZWFiNTI5ZTE2ZmMxYjNmZTcyLmJpbmRQb3B1cChwb3B1cF9hMjBlZGZkYTk3MjI0MGI3OGY2NTBmOTk4Y2YyNGMwNCkKICAgICAgICA7CgogICAgICAgIAogICAgCiAgICAKICAgICAgICAgICAgdmFyIGNpcmNsZV9tYXJrZXJfMzNmNTM1NDVjOTA3NGYwY2EwYTJjNjVkYjg5NTNkNzUgPSBMLmNpcmNsZU1hcmtlcigKICAgICAgICAgICAgICAgIFs0My42Njg5OTg1LCAtNzkuMzE1NTcxNTk5OTk5OThdLAogICAgICAgICAgICAgICAgeyJidWJibGluZ01vdXNlRXZlbnRzIjogdHJ1ZSwgImNvbG9yIjogImJsdWUiLCAiZGFzaEFycmF5IjogbnVsbCwgImRhc2hPZmZzZXQiOiBudWxsLCAiZmlsbCI6IHRydWUsICJmaWxsQ29sb3IiOiAiIzMxODZjYyIsICJmaWxsT3BhY2l0eSI6IDAuNywgImZpbGxSdWxlIjogImV2ZW5vZGQiLCAibGluZUNhcCI6ICJyb3VuZCIsICJsaW5lSm9pbiI6ICJyb3VuZCIsICJvcGFjaXR5IjogMS4wLCAicmFkaXVzIjogNSwgInN0cm9rZSI6IHRydWUsICJ3ZWlnaHQiOiAzfQogICAgICAgICAgICApLmFkZFRvKG1hcF81YjY4NDVhMGQ5NjE0ZWEzYjdmYWU5NWM4OGEyYTM4MCk7CiAgICAgICAgCiAgICAKICAgICAgICB2YXIgcG9wdXBfNmFhNmUxZjdmNTE5NDE2ZThjZDEyMGFjMGJiM2QyMTMgPSBMLnBvcHVwKHsibWF4V2lkdGgiOiAiMTAwJSJ9KTsKCiAgICAgICAgCiAgICAgICAgICAgIHZhciBodG1sX2I3NTU0YWIzM2QzYzQ2YmU5OWJlYzFjN2VhZjhmNzlhID0gJChgPGRpdiBpZD0iaHRtbF9iNzU1NGFiMzNkM2M0NmJlOTliZWMxYzdlYWY4Zjc5YSIgc3R5bGU9IndpZHRoOiAxMDAuMCU7IGhlaWdodDogMTAwLjAlOyI+SW5kaWEgQmF6YWFyIC8gVGhlIEJlYWNoZXMgV2VzdCwgRWFzdCBUb3JvbnRvPC9kaXY+YClbMF07CiAgICAgICAgICAgIHBvcHVwXzZhYTZlMWY3ZjUxOTQxNmU4Y2QxMjBhYzBiYjNkMjEzLnNldENvbnRlbnQoaHRtbF9iNzU1NGFiMzNkM2M0NmJlOTliZWMxYzdlYWY4Zjc5YSk7CiAgICAgICAgCgogICAgICAgIGNpcmNsZV9tYXJrZXJfMzNmNTM1NDVjOTA3NGYwY2EwYTJjNjVkYjg5NTNkNzUuYmluZFBvcHVwKHBvcHVwXzZhYTZlMWY3ZjUxOTQxNmU4Y2QxMjBhYzBiYjNkMjEzKQogICAgICAgIDsKCiAgICAgICAgCiAgICAKICAgIAogICAgICAgICAgICB2YXIgY2lyY2xlX21hcmtlcl8xZjU1OWU5ZTEzODc0ZmE4OGUwYjc5MTg3NjAyYzNjYyA9IEwuY2lyY2xlTWFya2VyKAogICAgICAgICAgICAgICAgWzQzLjY0ODE5ODUsIC03OS4zNzk4MTY5MDAwMDAwMV0sCiAgICAgICAgICAgICAgICB7ImJ1YmJsaW5nTW91c2VFdmVudHMiOiB0cnVlLCAiY29sb3IiOiAiYmx1ZSIsICJkYXNoQXJyYXkiOiBudWxsLCAiZGFzaE9mZnNldCI6IG51bGwsICJmaWxsIjogdHJ1ZSwgImZpbGxDb2xvciI6ICIjMzE4NmNjIiwgImZpbGxPcGFjaXR5IjogMC43LCAiZmlsbFJ1bGUiOiAiZXZlbm9kZCIsICJsaW5lQ2FwIjogInJvdW5kIiwgImxpbmVKb2luIjogInJvdW5kIiwgIm9wYWNpdHkiOiAxLjAsICJyYWRpdXMiOiA1LCAic3Ryb2tlIjogdHJ1ZSwgIndlaWdodCI6IDN9CiAgICAgICAgICAgICkuYWRkVG8obWFwXzViNjg0NWEwZDk2MTRlYTNiN2ZhZTk1Yzg4YTJhMzgwKTsKICAgICAgICAKICAgIAogICAgICAgIHZhciBwb3B1cF8zOTEyYjg3NzgyMDU0NGJiOTZkZTZkMmNiMmU2NjhlMCA9IEwucG9wdXAoeyJtYXhXaWR0aCI6ICIxMDAlIn0pOwoKICAgICAgICAKICAgICAgICAgICAgdmFyIGh0bWxfMjA2ODRiNGViYTBiNGI0ODk1MWQzNWI4ODdlZGJmYjEgPSAkKGA8ZGl2IGlkPSJodG1sXzIwNjg0YjRlYmEwYjRiNDg5NTFkMzViODg3ZWRiZmIxIiBzdHlsZT0id2lkdGg6IDEwMC4wJTsgaGVpZ2h0OiAxMDAuMCU7Ij5Db21tZXJjZSBDb3VydCAvIFZpY3RvcmlhIEhvdGVsLCBEb3dudG93biBUb3JvbnRvPC9kaXY+YClbMF07CiAgICAgICAgICAgIHBvcHVwXzM5MTJiODc3ODIwNTQ0YmI5NmRlNmQyY2IyZTY2OGUwLnNldENvbnRlbnQoaHRtbF8yMDY4NGI0ZWJhMGI0YjQ4OTUxZDM1Yjg4N2VkYmZiMSk7CiAgICAgICAgCgogICAgICAgIGNpcmNsZV9tYXJrZXJfMWY1NTllOWUxMzg3NGZhODhlMGI3OTE4NzYwMmMzY2MuYmluZFBvcHVwKHBvcHVwXzM5MTJiODc3ODIwNTQ0YmI5NmRlNmQyY2IyZTY2OGUwKQogICAgICAgIDsKCiAgICAgICAgCiAgICAKICAgIAogICAgICAgICAgICB2YXIgY2lyY2xlX21hcmtlcl8xYzc2M2RiNjUyNjI0N2U0OTFjMzRlYzJlMWVhZDA5NiA9IEwuY2lyY2xlTWFya2VyKAogICAgICAgICAgICAgICAgWzQzLjY1OTUyNTUsIC03OS4zNDA5MjNdLAogICAgICAgICAgICAgICAgeyJidWJibGluZ01vdXNlRXZlbnRzIjogdHJ1ZSwgImNvbG9yIjogImJsdWUiLCAiZGFzaEFycmF5IjogbnVsbCwgImRhc2hPZmZzZXQiOiBudWxsLCAiZmlsbCI6IHRydWUsICJmaWxsQ29sb3IiOiAiIzMxODZjYyIsICJmaWxsT3BhY2l0eSI6IDAuNywgImZpbGxSdWxlIjogImV2ZW5vZGQiLCAibGluZUNhcCI6ICJyb3VuZCIsICJsaW5lSm9pbiI6ICJyb3VuZCIsICJvcGFjaXR5IjogMS4wLCAicmFkaXVzIjogNSwgInN0cm9rZSI6IHRydWUsICJ3ZWlnaHQiOiAzfQogICAgICAgICAgICApLmFkZFRvKG1hcF81YjY4NDVhMGQ5NjE0ZWEzYjdmYWU5NWM4OGEyYTM4MCk7CiAgICAgICAgCiAgICAKICAgICAgICB2YXIgcG9wdXBfYjU4MjY4YTg1NzJkNDZmNGI4NzNlZmUwZGZiZDcwZDcgPSBMLnBvcHVwKHsibWF4V2lkdGgiOiAiMTAwJSJ9KTsKCiAgICAgICAgCiAgICAgICAgICAgIHZhciBodG1sXzRkMzU1YjIwMTdjMjRhMTI4NWVmMGNkNWI4N2FmZjE1ID0gJChgPGRpdiBpZD0iaHRtbF80ZDM1NWIyMDE3YzI0YTEyODVlZjBjZDViODdhZmYxNSIgc3R5bGU9IndpZHRoOiAxMDAuMCU7IGhlaWdodDogMTAwLjAlOyI+U3R1ZGlvIERpc3RyaWN0LCBFYXN0IFRvcm9udG88L2Rpdj5gKVswXTsKICAgICAgICAgICAgcG9wdXBfYjU4MjY4YTg1NzJkNDZmNGI4NzNlZmUwZGZiZDcwZDcuc2V0Q29udGVudChodG1sXzRkMzU1YjIwMTdjMjRhMTI4NWVmMGNkNWI4N2FmZjE1KTsKICAgICAgICAKCiAgICAgICAgY2lyY2xlX21hcmtlcl8xYzc2M2RiNjUyNjI0N2U0OTFjMzRlYzJlMWVhZDA5Ni5iaW5kUG9wdXAocG9wdXBfYjU4MjY4YTg1NzJkNDZmNGI4NzNlZmUwZGZiZDcwZDcpCiAgICAgICAgOwoKICAgICAgICAKICAgIAogICAgCiAgICAgICAgICAgIHZhciBjaXJjbGVfbWFya2VyXzU3Y2FhMGQwYTVkODRjMzU4Nzc2MjMzNjc4ZWFiMWQwID0gTC5jaXJjbGVNYXJrZXIoCiAgICAgICAgICAgICAgICBbNDMuNzI4MDIwNSwgLTc5LjM4ODc5MDFdLAogICAgICAgICAgICAgICAgeyJidWJibGluZ01vdXNlRXZlbnRzIjogdHJ1ZSwgImNvbG9yIjogImJsdWUiLCAiZGFzaEFycmF5IjogbnVsbCwgImRhc2hPZmZzZXQiOiBudWxsLCAiZmlsbCI6IHRydWUsICJmaWxsQ29sb3IiOiAiIzMxODZjYyIsICJmaWxsT3BhY2l0eSI6IDAuNywgImZpbGxSdWxlIjogImV2ZW5vZGQiLCAibGluZUNhcCI6ICJyb3VuZCIsICJsaW5lSm9pbiI6ICJyb3VuZCIsICJvcGFjaXR5IjogMS4wLCAicmFkaXVzIjogNSwgInN0cm9rZSI6IHRydWUsICJ3ZWlnaHQiOiAzfQogICAgICAgICAgICApLmFkZFRvKG1hcF81YjY4NDVhMGQ5NjE0ZWEzYjdmYWU5NWM4OGEyYTM4MCk7CiAgICAgICAgCiAgICAKICAgICAgICB2YXIgcG9wdXBfOWQ1YWVmYzc0ZmJhNGFlMzk5YWJiZTY2MjQ3NDk5M2MgPSBMLnBvcHVwKHsibWF4V2lkdGgiOiAiMTAwJSJ9KTsKCiAgICAgICAgCiAgICAgICAgICAgIHZhciBodG1sXzI1MmQyNTIxOWEyYTQ5NmM5MjEwNWU4NWM1YzU1ZmI5ID0gJChgPGRpdiBpZD0iaHRtbF8yNTJkMjUyMTlhMmE0OTZjOTIxMDVlODVjNWM1NWZiOSIgc3R5bGU9IndpZHRoOiAxMDAuMCU7IGhlaWdodDogMTAwLjAlOyI+TGF3cmVuY2UgUGFyaywgQ2VudHJhbCBUb3JvbnRvPC9kaXY+YClbMF07CiAgICAgICAgICAgIHBvcHVwXzlkNWFlZmM3NGZiYTRhZTM5OWFiYmU2NjI0NzQ5OTNjLnNldENvbnRlbnQoaHRtbF8yNTJkMjUyMTlhMmE0OTZjOTIxMDVlODVjNWM1NWZiOSk7CiAgICAgICAgCgogICAgICAgIGNpcmNsZV9tYXJrZXJfNTdjYWEwZDBhNWQ4NGMzNTg3NzYyMzM2NzhlYWIxZDAuYmluZFBvcHVwKHBvcHVwXzlkNWFlZmM3NGZiYTRhZTM5OWFiYmU2NjI0NzQ5OTNjKQogICAgICAgIDsKCiAgICAgICAgCiAgICAKICAgIAogICAgICAgICAgICB2YXIgY2lyY2xlX21hcmtlcl9mNWY0MTU2NDEyODk0NWE1YTgzNmFiZDAzMjI2NWMyOSA9IEwuY2lyY2xlTWFya2VyKAogICAgICAgICAgICAgICAgWzQzLjcxMTY5NDgsIC03OS40MTY5MzU1OTk5OTk5OV0sCiAgICAgICAgICAgICAgICB7ImJ1YmJsaW5nTW91c2VFdmVudHMiOiB0cnVlLCAiY29sb3IiOiAiYmx1ZSIsICJkYXNoQXJyYXkiOiBudWxsLCAiZGFzaE9mZnNldCI6IG51bGwsICJmaWxsIjogdHJ1ZSwgImZpbGxDb2xvciI6ICIjMzE4NmNjIiwgImZpbGxPcGFjaXR5IjogMC43LCAiZmlsbFJ1bGUiOiAiZXZlbm9kZCIsICJsaW5lQ2FwIjogInJvdW5kIiwgImxpbmVKb2luIjogInJvdW5kIiwgIm9wYWNpdHkiOiAxLjAsICJyYWRpdXMiOiA1LCAic3Ryb2tlIjogdHJ1ZSwgIndlaWdodCI6IDN9CiAgICAgICAgICAgICkuYWRkVG8obWFwXzViNjg0NWEwZDk2MTRlYTNiN2ZhZTk1Yzg4YTJhMzgwKTsKICAgICAgICAKICAgIAogICAgICAgIHZhciBwb3B1cF81MGQzNTU4NTllMmI0NTUzODkzMmVkZjY1MmM4NzVjZSA9IEwucG9wdXAoeyJtYXhXaWR0aCI6ICIxMDAlIn0pOwoKICAgICAgICAKICAgICAgICAgICAgdmFyIGh0bWxfNzA2Y2FiYWQ5YTZkNDhhOThjZjhiZDQ4YTFjZDI5NTMgPSAkKGA8ZGl2IGlkPSJodG1sXzcwNmNhYmFkOWE2ZDQ4YTk4Y2Y4YmQ0OGExY2QyOTUzIiBzdHlsZT0id2lkdGg6IDEwMC4wJTsgaGVpZ2h0OiAxMDAuMCU7Ij5Sb3NlbGF3biwgQ2VudHJhbCBUb3JvbnRvPC9kaXY+YClbMF07CiAgICAgICAgICAgIHBvcHVwXzUwZDM1NTg1OWUyYjQ1NTM4OTMyZWRmNjUyYzg3NWNlLnNldENvbnRlbnQoaHRtbF83MDZjYWJhZDlhNmQ0OGE5OGNmOGJkNDhhMWNkMjk1Myk7CiAgICAgICAgCgogICAgICAgIGNpcmNsZV9tYXJrZXJfZjVmNDE1NjQxMjg5NDVhNWE4MzZhYmQwMzIyNjVjMjkuYmluZFBvcHVwKHBvcHVwXzUwZDM1NTg1OWUyYjQ1NTM4OTMyZWRmNjUyYzg3NWNlKQogICAgICAgIDsKCiAgICAgICAgCiAgICAKICAgIAogICAgICAgICAgICB2YXIgY2lyY2xlX21hcmtlcl81MDkxNWY1Y2I0NjU0YzNiOWExMDgxNmU1ZTIzMWVmNCA9IEwuY2lyY2xlTWFya2VyKAogICAgICAgICAgICAgICAgWzQzLjcxMjc1MTEsIC03OS4zOTAxOTc1XSwKICAgICAgICAgICAgICAgIHsiYnViYmxpbmdNb3VzZUV2ZW50cyI6IHRydWUsICJjb2xvciI6ICJibHVlIiwgImRhc2hBcnJheSI6IG51bGwsICJkYXNoT2Zmc2V0IjogbnVsbCwgImZpbGwiOiB0cnVlLCAiZmlsbENvbG9yIjogIiMzMTg2Y2MiLCAiZmlsbE9wYWNpdHkiOiAwLjcsICJmaWxsUnVsZSI6ICJldmVub2RkIiwgImxpbmVDYXAiOiAicm91bmQiLCAibGluZUpvaW4iOiAicm91bmQiLCAib3BhY2l0eSI6IDEuMCwgInJhZGl1cyI6IDUsICJzdHJva2UiOiB0cnVlLCAid2VpZ2h0IjogM30KICAgICAgICAgICAgKS5hZGRUbyhtYXBfNWI2ODQ1YTBkOTYxNGVhM2I3ZmFlOTVjODhhMmEzODApOwogICAgICAgIAogICAgCiAgICAgICAgdmFyIHBvcHVwX2RjOTgxZDBkNGIzZDRiN2E4YTcxNjNlNzk2Y2Q0MGEzID0gTC5wb3B1cCh7Im1heFdpZHRoIjogIjEwMCUifSk7CgogICAgICAgIAogICAgICAgICAgICB2YXIgaHRtbF9hN2MxZjljYmEwMjQ0Y2QyODc3NWZmYzM2ODhhNzkwOCA9ICQoYDxkaXYgaWQ9Imh0bWxfYTdjMWY5Y2JhMDI0NGNkMjg3NzVmZmMzNjg4YTc5MDgiIHN0eWxlPSJ3aWR0aDogMTAwLjAlOyBoZWlnaHQ6IDEwMC4wJTsiPkRhdmlzdmlsbGUgTm9ydGgsIENlbnRyYWwgVG9yb250bzwvZGl2PmApWzBdOwogICAgICAgICAgICBwb3B1cF9kYzk4MWQwZDRiM2Q0YjdhOGE3MTYzZTc5NmNkNDBhMy5zZXRDb250ZW50KGh0bWxfYTdjMWY5Y2JhMDI0NGNkMjg3NzVmZmMzNjg4YTc5MDgpOwogICAgICAgIAoKICAgICAgICBjaXJjbGVfbWFya2VyXzUwOTE1ZjVjYjQ2NTRjM2I5YTEwODE2ZTVlMjMxZWY0LmJpbmRQb3B1cChwb3B1cF9kYzk4MWQwZDRiM2Q0YjdhOGE3MTYzZTc5NmNkNDBhMykKICAgICAgICA7CgogICAgICAgIAogICAgCiAgICAKICAgICAgICAgICAgdmFyIGNpcmNsZV9tYXJrZXJfMmM4NTM2ODA0MGIxNDcyNTk2NWE5NzU3Njk2YTVlZDEgPSBMLmNpcmNsZU1hcmtlcigKICAgICAgICAgICAgICAgIFs0My42OTY5NDc2LCAtNzkuNDExMzA3MjAwMDAwMDFdLAogICAgICAgICAgICAgICAgeyJidWJibGluZ01vdXNlRXZlbnRzIjogdHJ1ZSwgImNvbG9yIjogImJsdWUiLCAiZGFzaEFycmF5IjogbnVsbCwgImRhc2hPZmZzZXQiOiBudWxsLCAiZmlsbCI6IHRydWUsICJmaWxsQ29sb3IiOiAiIzMxODZjYyIsICJmaWxsT3BhY2l0eSI6IDAuNywgImZpbGxSdWxlIjogImV2ZW5vZGQiLCAibGluZUNhcCI6ICJyb3VuZCIsICJsaW5lSm9pbiI6ICJyb3VuZCIsICJvcGFjaXR5IjogMS4wLCAicmFkaXVzIjogNSwgInN0cm9rZSI6IHRydWUsICJ3ZWlnaHQiOiAzfQogICAgICAgICAgICApLmFkZFRvKG1hcF81YjY4NDVhMGQ5NjE0ZWEzYjdmYWU5NWM4OGEyYTM4MCk7CiAgICAgICAgCiAgICAKICAgICAgICB2YXIgcG9wdXBfNTgzOTUzM2RhOWU2NDZhOWE5ZjRhZWJlNjhmYTg2NGUgPSBMLnBvcHVwKHsibWF4V2lkdGgiOiAiMTAwJSJ9KTsKCiAgICAgICAgCiAgICAgICAgICAgIHZhciBodG1sXzZkMWRmYmQ2ZmUzODQ1N2I5MjdkOTU3NjA1MmIwM2EwID0gJChgPGRpdiBpZD0iaHRtbF82ZDFkZmJkNmZlMzg0NTdiOTI3ZDk1NzYwNTJiMDNhMCIgc3R5bGU9IndpZHRoOiAxMDAuMCU7IGhlaWdodDogMTAwLjAlOyI+Rm9yZXN0IEhpbGwgTm9ydGggJmFtcDsgV2VzdCwgQ2VudHJhbCBUb3JvbnRvPC9kaXY+YClbMF07CiAgICAgICAgICAgIHBvcHVwXzU4Mzk1MzNkYTllNjQ2YTlhOWY0YWViZTY4ZmE4NjRlLnNldENvbnRlbnQoaHRtbF82ZDFkZmJkNmZlMzg0NTdiOTI3ZDk1NzYwNTJiMDNhMCk7CiAgICAgICAgCgogICAgICAgIGNpcmNsZV9tYXJrZXJfMmM4NTM2ODA0MGIxNDcyNTk2NWE5NzU3Njk2YTVlZDEuYmluZFBvcHVwKHBvcHVwXzU4Mzk1MzNkYTllNjQ2YTlhOWY0YWViZTY4ZmE4NjRlKQogICAgICAgIDsKCiAgICAgICAgCiAgICAKICAgIAogICAgICAgICAgICB2YXIgY2lyY2xlX21hcmtlcl84NTMwOGEyNTgwNWI0YTJmOThhYWQ5ZWY2NzhlODgxYiA9IEwuY2lyY2xlTWFya2VyKAogICAgICAgICAgICAgICAgWzQzLjY2MTYwODMsIC03OS40NjQ3NjMyOTk5OTk5OV0sCiAgICAgICAgICAgICAgICB7ImJ1YmJsaW5nTW91c2VFdmVudHMiOiB0cnVlLCAiY29sb3IiOiAiYmx1ZSIsICJkYXNoQXJyYXkiOiBudWxsLCAiZGFzaE9mZnNldCI6IG51bGwsICJmaWxsIjogdHJ1ZSwgImZpbGxDb2xvciI6ICIjMzE4NmNjIiwgImZpbGxPcGFjaXR5IjogMC43LCAiZmlsbFJ1bGUiOiAiZXZlbm9kZCIsICJsaW5lQ2FwIjogInJvdW5kIiwgImxpbmVKb2luIjogInJvdW5kIiwgIm9wYWNpdHkiOiAxLjAsICJyYWRpdXMiOiA1LCAic3Ryb2tlIjogdHJ1ZSwgIndlaWdodCI6IDN9CiAgICAgICAgICAgICkuYWRkVG8obWFwXzViNjg0NWEwZDk2MTRlYTNiN2ZhZTk1Yzg4YTJhMzgwKTsKICAgICAgICAKICAgIAogICAgICAgIHZhciBwb3B1cF81MjcwMjk5N2U4Nzg0ZjkzODkyZGM2YTgxZjdiMDc0NyA9IEwucG9wdXAoeyJtYXhXaWR0aCI6ICIxMDAlIn0pOwoKICAgICAgICAKICAgICAgICAgICAgdmFyIGh0bWxfNTczM2VhOWFlNzdjNDI3ZmI3Y2NmYmMzYjQ2YmM5NDQgPSAkKGA8ZGl2IGlkPSJodG1sXzU3MzNlYTlhZTc3YzQyN2ZiN2NjZmJjM2I0NmJjOTQ0IiBzdHlsZT0id2lkdGg6IDEwMC4wJTsgaGVpZ2h0OiAxMDAuMCU7Ij5IaWdoIFBhcmsgLyBUaGUgSnVuY3Rpb24gU291dGgsIFdlc3QgVG9yb250bzwvZGl2PmApWzBdOwogICAgICAgICAgICBwb3B1cF81MjcwMjk5N2U4Nzg0ZjkzODkyZGM2YTgxZjdiMDc0Ny5zZXRDb250ZW50KGh0bWxfNTczM2VhOWFlNzdjNDI3ZmI3Y2NmYmMzYjQ2YmM5NDQpOwogICAgICAgIAoKICAgICAgICBjaXJjbGVfbWFya2VyXzg1MzA4YTI1ODA1YjRhMmY5OGFhZDllZjY3OGU4ODFiLmJpbmRQb3B1cChwb3B1cF81MjcwMjk5N2U4Nzg0ZjkzODkyZGM2YTgxZjdiMDc0NykKICAgICAgICA7CgogICAgICAgIAogICAgCiAgICAKICAgICAgICAgICAgdmFyIGNpcmNsZV9tYXJrZXJfNDY2MjhiMzllYmNmNDNiYWIxMTFiNGFjNzg5ZTljZGMgPSBMLmNpcmNsZU1hcmtlcigKICAgICAgICAgICAgICAgIFs0My43MTUzODM0LCAtNzkuNDA1Njc4NDAwMDAwMDFdLAogICAgICAgICAgICAgICAgeyJidWJibGluZ01vdXNlRXZlbnRzIjogdHJ1ZSwgImNvbG9yIjogImJsdWUiLCAiZGFzaEFycmF5IjogbnVsbCwgImRhc2hPZmZzZXQiOiBudWxsLCAiZmlsbCI6IHRydWUsICJmaWxsQ29sb3IiOiAiIzMxODZjYyIsICJmaWxsT3BhY2l0eSI6IDAuNywgImZpbGxSdWxlIjogImV2ZW5vZGQiLCAibGluZUNhcCI6ICJyb3VuZCIsICJsaW5lSm9pbiI6ICJyb3VuZCIsICJvcGFjaXR5IjogMS4wLCAicmFkaXVzIjogNSwgInN0cm9rZSI6IHRydWUsICJ3ZWlnaHQiOiAzfQogICAgICAgICAgICApLmFkZFRvKG1hcF81YjY4NDVhMGQ5NjE0ZWEzYjdmYWU5NWM4OGEyYTM4MCk7CiAgICAgICAgCiAgICAKICAgICAgICB2YXIgcG9wdXBfMTUwMGM4N2NmMGFkNGU0NTk5Mjc5ZjNkNjM2NDE4YmQgPSBMLnBvcHVwKHsibWF4V2lkdGgiOiAiMTAwJSJ9KTsKCiAgICAgICAgCiAgICAgICAgICAgIHZhciBodG1sXzY2NjBlNGY5NTVhNjRlYzU4ODVhOWFjZjU3N2MxN2Y1ID0gJChgPGRpdiBpZD0iaHRtbF82NjYwZTRmOTU1YTY0ZWM1ODg1YTlhY2Y1NzdjMTdmNSIgc3R5bGU9IndpZHRoOiAxMDAuMCU7IGhlaWdodDogMTAwLjAlOyI+Tm9ydGggVG9yb250byBXZXN0LCBDZW50cmFsIFRvcm9udG88L2Rpdj5gKVswXTsKICAgICAgICAgICAgcG9wdXBfMTUwMGM4N2NmMGFkNGU0NTk5Mjc5ZjNkNjM2NDE4YmQuc2V0Q29udGVudChodG1sXzY2NjBlNGY5NTVhNjRlYzU4ODVhOWFjZjU3N2MxN2Y1KTsKICAgICAgICAKCiAgICAgICAgY2lyY2xlX21hcmtlcl80NjYyOGIzOWViY2Y0M2JhYjExMWI0YWM3ODllOWNkYy5iaW5kUG9wdXAocG9wdXBfMTUwMGM4N2NmMGFkNGU0NTk5Mjc5ZjNkNjM2NDE4YmQpCiAgICAgICAgOwoKICAgICAgICAKICAgIAogICAgCiAgICAgICAgICAgIHZhciBjaXJjbGVfbWFya2VyXzdhNzkzODU1YjFjZTRkNTY4ZTk2YjFlMzNjOWUxMzU3ID0gTC5jaXJjbGVNYXJrZXIoCiAgICAgICAgICAgICAgICBbNDMuNjcyNzA5NywgLTc5LjQwNTY3ODQwMDAwMDAxXSwKICAgICAgICAgICAgICAgIHsiYnViYmxpbmdNb3VzZUV2ZW50cyI6IHRydWUsICJjb2xvciI6ICJibHVlIiwgImRhc2hBcnJheSI6IG51bGwsICJkYXNoT2Zmc2V0IjogbnVsbCwgImZpbGwiOiB0cnVlLCAiZmlsbENvbG9yIjogIiMzMTg2Y2MiLCAiZmlsbE9wYWNpdHkiOiAwLjcsICJmaWxsUnVsZSI6ICJldmVub2RkIiwgImxpbmVDYXAiOiAicm91bmQiLCAibGluZUpvaW4iOiAicm91bmQiLCAib3BhY2l0eSI6IDEuMCwgInJhZGl1cyI6IDUsICJzdHJva2UiOiB0cnVlLCAid2VpZ2h0IjogM30KICAgICAgICAgICAgKS5hZGRUbyhtYXBfNWI2ODQ1YTBkOTYxNGVhM2I3ZmFlOTVjODhhMmEzODApOwogICAgICAgIAogICAgCiAgICAgICAgdmFyIHBvcHVwX2YxMjlmOTc2M2IzYjRkMWRhMjY2NDlkMjRjMDRlY2IzID0gTC5wb3B1cCh7Im1heFdpZHRoIjogIjEwMCUifSk7CgogICAgICAgIAogICAgICAgICAgICB2YXIgaHRtbF81YTJjZDk3MjlkNDU0M2VlOTg1N2I0YzkwNDAwYTgzYSA9ICQoYDxkaXYgaWQ9Imh0bWxfNWEyY2Q5NzI5ZDQ1NDNlZTk4NTdiNGM5MDQwMGE4M2EiIHN0eWxlPSJ3aWR0aDogMTAwLjAlOyBoZWlnaHQ6IDEwMC4wJTsiPlRoZSBBbm5leCAvIE5vcnRoIE1pZHRvd24gLyBZb3JrdmlsbGUsIENlbnRyYWwgVG9yb250bzwvZGl2PmApWzBdOwogICAgICAgICAgICBwb3B1cF9mMTI5Zjk3NjNiM2I0ZDFkYTI2NjQ5ZDI0YzA0ZWNiMy5zZXRDb250ZW50KGh0bWxfNWEyY2Q5NzI5ZDQ1NDNlZTk4NTdiNGM5MDQwMGE4M2EpOwogICAgICAgIAoKICAgICAgICBjaXJjbGVfbWFya2VyXzdhNzkzODU1YjFjZTRkNTY4ZTk2YjFlMzNjOWUxMzU3LmJpbmRQb3B1cChwb3B1cF9mMTI5Zjk3NjNiM2I0ZDFkYTI2NjQ5ZDI0YzA0ZWNiMykKICAgICAgICA7CgogICAgICAgIAogICAgCiAgICAKICAgICAgICAgICAgdmFyIGNpcmNsZV9tYXJrZXJfYzc1YjRlZmNkY2JhNGY0NWI3YmMwZTUyYWY3YjE0NWEgPSBMLmNpcmNsZU1hcmtlcigKICAgICAgICAgICAgICAgIFs0My42NDg5NTk3LCAtNzkuNDU2MzI1XSwKICAgICAgICAgICAgICAgIHsiYnViYmxpbmdNb3VzZUV2ZW50cyI6IHRydWUsICJjb2xvciI6ICJibHVlIiwgImRhc2hBcnJheSI6IG51bGwsICJkYXNoT2Zmc2V0IjogbnVsbCwgImZpbGwiOiB0cnVlLCAiZmlsbENvbG9yIjogIiMzMTg2Y2MiLCAiZmlsbE9wYWNpdHkiOiAwLjcsICJmaWxsUnVsZSI6ICJldmVub2RkIiwgImxpbmVDYXAiOiAicm91bmQiLCAibGluZUpvaW4iOiAicm91bmQiLCAib3BhY2l0eSI6IDEuMCwgInJhZGl1cyI6IDUsICJzdHJva2UiOiB0cnVlLCAid2VpZ2h0IjogM30KICAgICAgICAgICAgKS5hZGRUbyhtYXBfNWI2ODQ1YTBkOTYxNGVhM2I3ZmFlOTVjODhhMmEzODApOwogICAgICAgIAogICAgCiAgICAgICAgdmFyIHBvcHVwXzk4NzM0MDU5ZDQwODQ4NGVhY2MzOTM3Y2Q1ZGVkYTc4ID0gTC5wb3B1cCh7Im1heFdpZHRoIjogIjEwMCUifSk7CgogICAgICAgIAogICAgICAgICAgICB2YXIgaHRtbF81NDdlNWNkZmIwZWE0NmM4OTNjZGE2YTM3NDMzODEyYyA9ICQoYDxkaXYgaWQ9Imh0bWxfNTQ3ZTVjZGZiMGVhNDZjODkzY2RhNmEzNzQzMzgxMmMiIHN0eWxlPSJ3aWR0aDogMTAwLjAlOyBoZWlnaHQ6IDEwMC4wJTsiPlBhcmtkYWxlIC8gUm9uY2VzdmFsbGVzLCBXZXN0IFRvcm9udG88L2Rpdj5gKVswXTsKICAgICAgICAgICAgcG9wdXBfOTg3MzQwNTlkNDA4NDg0ZWFjYzM5MzdjZDVkZWRhNzguc2V0Q29udGVudChodG1sXzU0N2U1Y2RmYjBlYTQ2Yzg5M2NkYTZhMzc0MzM4MTJjKTsKICAgICAgICAKCiAgICAgICAgY2lyY2xlX21hcmtlcl9jNzViNGVmY2RjYmE0ZjQ1YjdiYzBlNTJhZjdiMTQ1YS5iaW5kUG9wdXAocG9wdXBfOTg3MzQwNTlkNDA4NDg0ZWFjYzM5MzdjZDVkZWRhNzgpCiAgICAgICAgOwoKICAgICAgICAKICAgIAogICAgCiAgICAgICAgICAgIHZhciBjaXJjbGVfbWFya2VyX2E3MWViODA5ZjFmYjRmZDc4YTY3ZTdjOTEyYjJmM2NkID0gTC5jaXJjbGVNYXJrZXIoCiAgICAgICAgICAgICAgICBbNDMuNzA0MzI0NCwgLTc5LjM4ODc5MDFdLAogICAgICAgICAgICAgICAgeyJidWJibGluZ01vdXNlRXZlbnRzIjogdHJ1ZSwgImNvbG9yIjogImJsdWUiLCAiZGFzaEFycmF5IjogbnVsbCwgImRhc2hPZmZzZXQiOiBudWxsLCAiZmlsbCI6IHRydWUsICJmaWxsQ29sb3IiOiAiIzMxODZjYyIsICJmaWxsT3BhY2l0eSI6IDAuNywgImZpbGxSdWxlIjogImV2ZW5vZGQiLCAibGluZUNhcCI6ICJyb3VuZCIsICJsaW5lSm9pbiI6ICJyb3VuZCIsICJvcGFjaXR5IjogMS4wLCAicmFkaXVzIjogNSwgInN0cm9rZSI6IHRydWUsICJ3ZWlnaHQiOiAzfQogICAgICAgICAgICApLmFkZFRvKG1hcF81YjY4NDVhMGQ5NjE0ZWEzYjdmYWU5NWM4OGEyYTM4MCk7CiAgICAgICAgCiAgICAKICAgICAgICB2YXIgcG9wdXBfMjU0Y2I0MmNjMTlmNDIzY2I3OGJkMDkzZjFlZDU0M2MgPSBMLnBvcHVwKHsibWF4V2lkdGgiOiAiMTAwJSJ9KTsKCiAgICAgICAgCiAgICAgICAgICAgIHZhciBodG1sXzQ4OWU0OTEwNzJkYzQwMTc5N2Q1ODY4ODljZWE3Y2I2ID0gJChgPGRpdiBpZD0iaHRtbF80ODllNDkxMDcyZGM0MDE3OTdkNTg2ODg5Y2VhN2NiNiIgc3R5bGU9IndpZHRoOiAxMDAuMCU7IGhlaWdodDogMTAwLjAlOyI+RGF2aXN2aWxsZSwgQ2VudHJhbCBUb3JvbnRvPC9kaXY+YClbMF07CiAgICAgICAgICAgIHBvcHVwXzI1NGNiNDJjYzE5ZjQyM2NiNzhiZDA5M2YxZWQ1NDNjLnNldENvbnRlbnQoaHRtbF80ODllNDkxMDcyZGM0MDE3OTdkNTg2ODg5Y2VhN2NiNik7CiAgICAgICAgCgogICAgICAgIGNpcmNsZV9tYXJrZXJfYTcxZWI4MDlmMWZiNGZkNzhhNjdlN2M5MTJiMmYzY2QuYmluZFBvcHVwKHBvcHVwXzI1NGNiNDJjYzE5ZjQyM2NiNzhiZDA5M2YxZWQ1NDNjKQogICAgICAgIDsKCiAgICAgICAgCiAgICAKICAgIAogICAgICAgICAgICB2YXIgY2lyY2xlX21hcmtlcl8yMTEzYmUwMzZhNmI0NDRkYjBlYTkwZjhkMzZkYmQ4YiA9IEwuY2lyY2xlTWFya2VyKAogICAgICAgICAgICAgICAgWzQzLjY2MjY5NTYsIC03OS40MDAwNDkzXSwKICAgICAgICAgICAgICAgIHsiYnViYmxpbmdNb3VzZUV2ZW50cyI6IHRydWUsICJjb2xvciI6ICJibHVlIiwgImRhc2hBcnJheSI6IG51bGwsICJkYXNoT2Zmc2V0IjogbnVsbCwgImZpbGwiOiB0cnVlLCAiZmlsbENvbG9yIjogIiMzMTg2Y2MiLCAiZmlsbE9wYWNpdHkiOiAwLjcsICJmaWxsUnVsZSI6ICJldmVub2RkIiwgImxpbmVDYXAiOiAicm91bmQiLCAibGluZUpvaW4iOiAicm91bmQiLCAib3BhY2l0eSI6IDEuMCwgInJhZGl1cyI6IDUsICJzdHJva2UiOiB0cnVlLCAid2VpZ2h0IjogM30KICAgICAgICAgICAgKS5hZGRUbyhtYXBfNWI2ODQ1YTBkOTYxNGVhM2I3ZmFlOTVjODhhMmEzODApOwogICAgICAgIAogICAgCiAgICAgICAgdmFyIHBvcHVwXzI0NTczNmUxODU5YjQ5OWFiNGQ3ZTkyOTlhOWNiOWY2ID0gTC5wb3B1cCh7Im1heFdpZHRoIjogIjEwMCUifSk7CgogICAgICAgIAogICAgICAgICAgICB2YXIgaHRtbF8zNzYxMDhmMGYzNWM0YTc0YTY1NjM0ZGYwOTRjYjlkMCA9ICQoYDxkaXYgaWQ9Imh0bWxfMzc2MTA4ZjBmMzVjNGE3NGE2NTYzNGRmMDk0Y2I5ZDAiIHN0eWxlPSJ3aWR0aDogMTAwLjAlOyBoZWlnaHQ6IDEwMC4wJTsiPlVuaXZlcnNpdHkgb2YgVG9yb250byAvIEhhcmJvcmQsIERvd250b3duIFRvcm9udG88L2Rpdj5gKVswXTsKICAgICAgICAgICAgcG9wdXBfMjQ1NzM2ZTE4NTliNDk5YWI0ZDdlOTI5OWE5Y2I5ZjYuc2V0Q29udGVudChodG1sXzM3NjEwOGYwZjM1YzRhNzRhNjU2MzRkZjA5NGNiOWQwKTsKICAgICAgICAKCiAgICAgICAgY2lyY2xlX21hcmtlcl8yMTEzYmUwMzZhNmI0NDRkYjBlYTkwZjhkMzZkYmQ4Yi5iaW5kUG9wdXAocG9wdXBfMjQ1NzM2ZTE4NTliNDk5YWI0ZDdlOTI5OWE5Y2I5ZjYpCiAgICAgICAgOwoKICAgICAgICAKICAgIAogICAgCiAgICAgICAgICAgIHZhciBjaXJjbGVfbWFya2VyX2NjYTBkMmYxZDhiYTQ2Y2E4NWE5NjYyNjc5MDY0OGU0ID0gTC5jaXJjbGVNYXJrZXIoCiAgICAgICAgICAgICAgICBbNDMuNjUxNTcwNiwgLTc5LjQ4NDQ0OTldLAogICAgICAgICAgICAgICAgeyJidWJibGluZ01vdXNlRXZlbnRzIjogdHJ1ZSwgImNvbG9yIjogImJsdWUiLCAiZGFzaEFycmF5IjogbnVsbCwgImRhc2hPZmZzZXQiOiBudWxsLCAiZmlsbCI6IHRydWUsICJmaWxsQ29sb3IiOiAiIzMxODZjYyIsICJmaWxsT3BhY2l0eSI6IDAuNywgImZpbGxSdWxlIjogImV2ZW5vZGQiLCAibGluZUNhcCI6ICJyb3VuZCIsICJsaW5lSm9pbiI6ICJyb3VuZCIsICJvcGFjaXR5IjogMS4wLCAicmFkaXVzIjogNSwgInN0cm9rZSI6IHRydWUsICJ3ZWlnaHQiOiAzfQogICAgICAgICAgICApLmFkZFRvKG1hcF81YjY4NDVhMGQ5NjE0ZWEzYjdmYWU5NWM4OGEyYTM4MCk7CiAgICAgICAgCiAgICAKICAgICAgICB2YXIgcG9wdXBfZjAzZTEyZGFiYTFlNGI3YTkzYjQ3YWY5NGFkYjJkMGQgPSBMLnBvcHVwKHsibWF4V2lkdGgiOiAiMTAwJSJ9KTsKCiAgICAgICAgCiAgICAgICAgICAgIHZhciBodG1sXzE4NjhlMjNjMDg2MTQxY2E5YjBjNjliZGQwN2U5OTg3ID0gJChgPGRpdiBpZD0iaHRtbF8xODY4ZTIzYzA4NjE0MWNhOWIwYzY5YmRkMDdlOTk4NyIgc3R5bGU9IndpZHRoOiAxMDAuMCU7IGhlaWdodDogMTAwLjAlOyI+UnVubnltZWRlIC8gU3dhbnNlYSwgV2VzdCBUb3JvbnRvPC9kaXY+YClbMF07CiAgICAgICAgICAgIHBvcHVwX2YwM2UxMmRhYmExZTRiN2E5M2I0N2FmOTRhZGIyZDBkLnNldENvbnRlbnQoaHRtbF8xODY4ZTIzYzA4NjE0MWNhOWIwYzY5YmRkMDdlOTk4Nyk7CiAgICAgICAgCgogICAgICAgIGNpcmNsZV9tYXJrZXJfY2NhMGQyZjFkOGJhNDZjYTg1YTk2NjI2NzkwNjQ4ZTQuYmluZFBvcHVwKHBvcHVwX2YwM2UxMmRhYmExZTRiN2E5M2I0N2FmOTRhZGIyZDBkKQogICAgICAgIDsKCiAgICAgICAgCiAgICAKICAgIAogICAgICAgICAgICB2YXIgY2lyY2xlX21hcmtlcl80NjlkMWQzNjBjZDY0YjdlYTNiZTUzYTQ5ZTdjMjA2NyA9IEwuY2lyY2xlTWFya2VyKAogICAgICAgICAgICAgICAgWzQzLjY4OTU3NDMsIC03OS4zODMxNTk5MDAwMDAwMV0sCiAgICAgICAgICAgICAgICB7ImJ1YmJsaW5nTW91c2VFdmVudHMiOiB0cnVlLCAiY29sb3IiOiAiYmx1ZSIsICJkYXNoQXJyYXkiOiBudWxsLCAiZGFzaE9mZnNldCI6IG51bGwsICJmaWxsIjogdHJ1ZSwgImZpbGxDb2xvciI6ICIjMzE4NmNjIiwgImZpbGxPcGFjaXR5IjogMC43LCAiZmlsbFJ1bGUiOiAiZXZlbm9kZCIsICJsaW5lQ2FwIjogInJvdW5kIiwgImxpbmVKb2luIjogInJvdW5kIiwgIm9wYWNpdHkiOiAxLjAsICJyYWRpdXMiOiA1LCAic3Ryb2tlIjogdHJ1ZSwgIndlaWdodCI6IDN9CiAgICAgICAgICAgICkuYWRkVG8obWFwXzViNjg0NWEwZDk2MTRlYTNiN2ZhZTk1Yzg4YTJhMzgwKTsKICAgICAgICAKICAgIAogICAgICAgIHZhciBwb3B1cF8zMTE1YWZmYjc1MTk0YmU2YjE0OTJkNTIxYzkyMjEyZiA9IEwucG9wdXAoeyJtYXhXaWR0aCI6ICIxMDAlIn0pOwoKICAgICAgICAKICAgICAgICAgICAgdmFyIGh0bWxfMTAwOTQ0NmUwMGI2NGE0N2FiOGRlMjJkMzAwODNkOTEgPSAkKGA8ZGl2IGlkPSJodG1sXzEwMDk0NDZlMDBiNjRhNDdhYjhkZTIyZDMwMDgzZDkxIiBzdHlsZT0id2lkdGg6IDEwMC4wJTsgaGVpZ2h0OiAxMDAuMCU7Ij5Nb29yZSBQYXJrIC8gU3VtbWVyaGlsbCBFYXN0LCBDZW50cmFsIFRvcm9udG88L2Rpdj5gKVswXTsKICAgICAgICAgICAgcG9wdXBfMzExNWFmZmI3NTE5NGJlNmIxNDkyZDUyMWM5MjIxMmYuc2V0Q29udGVudChodG1sXzEwMDk0NDZlMDBiNjRhNDdhYjhkZTIyZDMwMDgzZDkxKTsKICAgICAgICAKCiAgICAgICAgY2lyY2xlX21hcmtlcl80NjlkMWQzNjBjZDY0YjdlYTNiZTUzYTQ5ZTdjMjA2Ny5iaW5kUG9wdXAocG9wdXBfMzExNWFmZmI3NTE5NGJlNmIxNDkyZDUyMWM5MjIxMmYpCiAgICAgICAgOwoKICAgICAgICAKICAgIAogICAgCiAgICAgICAgICAgIHZhciBjaXJjbGVfbWFya2VyX2Q4Y2ZlZmEzZjdhNjRlNzM4ZTA2MjY3MjlmOTE1NDkyID0gTC5jaXJjbGVNYXJrZXIoCiAgICAgICAgICAgICAgICBbNDMuNjUzMjA1NywgLTc5LjQwMDA0OTNdLAogICAgICAgICAgICAgICAgeyJidWJibGluZ01vdXNlRXZlbnRzIjogdHJ1ZSwgImNvbG9yIjogImJsdWUiLCAiZGFzaEFycmF5IjogbnVsbCwgImRhc2hPZmZzZXQiOiBudWxsLCAiZmlsbCI6IHRydWUsICJmaWxsQ29sb3IiOiAiIzMxODZjYyIsICJmaWxsT3BhY2l0eSI6IDAuNywgImZpbGxSdWxlIjogImV2ZW5vZGQiLCAibGluZUNhcCI6ICJyb3VuZCIsICJsaW5lSm9pbiI6ICJyb3VuZCIsICJvcGFjaXR5IjogMS4wLCAicmFkaXVzIjogNSwgInN0cm9rZSI6IHRydWUsICJ3ZWlnaHQiOiAzfQogICAgICAgICAgICApLmFkZFRvKG1hcF81YjY4NDVhMGQ5NjE0ZWEzYjdmYWU5NWM4OGEyYTM4MCk7CiAgICAgICAgCiAgICAKICAgICAgICB2YXIgcG9wdXBfMzhmMDE0ODJiOWM0NDE4ZjgyZmNhMjMxN2RiZmE4NTkgPSBMLnBvcHVwKHsibWF4V2lkdGgiOiAiMTAwJSJ9KTsKCiAgICAgICAgCiAgICAgICAgICAgIHZhciBodG1sXzhiMWZlOTM4ZjI5MTRmYTNhMjM5YmUwZmRmNjljOTQ3ID0gJChgPGRpdiBpZD0iaHRtbF84YjFmZTkzOGYyOTE0ZmEzYTIzOWJlMGZkZjY5Yzk0NyIgc3R5bGU9IndpZHRoOiAxMDAuMCU7IGhlaWdodDogMTAwLjAlOyI+S2Vuc2luZ3RvbiBNYXJrZXQgLyBDaGluYXRvd24gLyBHcmFuZ2UgUGFyaywgRG93bnRvd24gVG9yb250bzwvZGl2PmApWzBdOwogICAgICAgICAgICBwb3B1cF8zOGYwMTQ4MmI5YzQ0MThmODJmY2EyMzE3ZGJmYTg1OS5zZXRDb250ZW50KGh0bWxfOGIxZmU5MzhmMjkxNGZhM2EyMzliZTBmZGY2OWM5NDcpOwogICAgICAgIAoKICAgICAgICBjaXJjbGVfbWFya2VyX2Q4Y2ZlZmEzZjdhNjRlNzM4ZTA2MjY3MjlmOTE1NDkyLmJpbmRQb3B1cChwb3B1cF8zOGYwMTQ4MmI5YzQ0MThmODJmY2EyMzE3ZGJmYTg1OSkKICAgICAgICA7CgogICAgICAgIAogICAgCiAgICAKICAgICAgICAgICAgdmFyIGNpcmNsZV9tYXJrZXJfNDc1NjIwZTE4ZWViNDkxZDkxOGMyMjFmOWFjNGQzMGEgPSBMLmNpcmNsZU1hcmtlcigKICAgICAgICAgICAgICAgIFs0My42ODY0MTIyOTk5OTk5OSwgLTc5LjQwMDA0OTNdLAogICAgICAgICAgICAgICAgeyJidWJibGluZ01vdXNlRXZlbnRzIjogdHJ1ZSwgImNvbG9yIjogImJsdWUiLCAiZGFzaEFycmF5IjogbnVsbCwgImRhc2hPZmZzZXQiOiBudWxsLCAiZmlsbCI6IHRydWUsICJmaWxsQ29sb3IiOiAiIzMxODZjYyIsICJmaWxsT3BhY2l0eSI6IDAuNywgImZpbGxSdWxlIjogImV2ZW5vZGQiLCAibGluZUNhcCI6ICJyb3VuZCIsICJsaW5lSm9pbiI6ICJyb3VuZCIsICJvcGFjaXR5IjogMS4wLCAicmFkaXVzIjogNSwgInN0cm9rZSI6IHRydWUsICJ3ZWlnaHQiOiAzfQogICAgICAgICAgICApLmFkZFRvKG1hcF81YjY4NDVhMGQ5NjE0ZWEzYjdmYWU5NWM4OGEyYTM4MCk7CiAgICAgICAgCiAgICAKICAgICAgICB2YXIgcG9wdXBfMzA5YTA5OWUyMDRlNDU0ODlhMzlhODRmZmRhYjNjZGQgPSBMLnBvcHVwKHsibWF4V2lkdGgiOiAiMTAwJSJ9KTsKCiAgICAgICAgCiAgICAgICAgICAgIHZhciBodG1sX2NhM2RlOTUzYjhkYzQ2Zjg5N2EwMTk4YmJhZDNmNTRiID0gJChgPGRpdiBpZD0iaHRtbF9jYTNkZTk1M2I4ZGM0NmY4OTdhMDE5OGJiYWQzZjU0YiIgc3R5bGU9IndpZHRoOiAxMDAuMCU7IGhlaWdodDogMTAwLjAlOyI+U3VtbWVyaGlsbCBXZXN0IC8gUmF0aG5lbGx5IC8gU291dGggSGlsbCAvIEZvcmVzdCBIaWxsIFNFIC8gRGVlciBQYXJrLCBDZW50cmFsIFRvcm9udG88L2Rpdj5gKVswXTsKICAgICAgICAgICAgcG9wdXBfMzA5YTA5OWUyMDRlNDU0ODlhMzlhODRmZmRhYjNjZGQuc2V0Q29udGVudChodG1sX2NhM2RlOTUzYjhkYzQ2Zjg5N2EwMTk4YmJhZDNmNTRiKTsKICAgICAgICAKCiAgICAgICAgY2lyY2xlX21hcmtlcl80NzU2MjBlMThlZWI0OTFkOTE4YzIyMWY5YWM0ZDMwYS5iaW5kUG9wdXAocG9wdXBfMzA5YTA5OWUyMDRlNDU0ODlhMzlhODRmZmRhYjNjZGQpCiAgICAgICAgOwoKICAgICAgICAKICAgIAogICAgCiAgICAgICAgICAgIHZhciBjaXJjbGVfbWFya2VyX2ZlODRmYmI0MjY5ZDQ4OTNhNzRlNDRjY2ZkNDZjMjJmID0gTC5jaXJjbGVNYXJrZXIoCiAgICAgICAgICAgICAgICBbNDMuNjI4OTQ2NywgLTc5LjM5NDQxOTldLAogICAgICAgICAgICAgICAgeyJidWJibGluZ01vdXNlRXZlbnRzIjogdHJ1ZSwgImNvbG9yIjogImJsdWUiLCAiZGFzaEFycmF5IjogbnVsbCwgImRhc2hPZmZzZXQiOiBudWxsLCAiZmlsbCI6IHRydWUsICJmaWxsQ29sb3IiOiAiIzMxODZjYyIsICJmaWxsT3BhY2l0eSI6IDAuNywgImZpbGxSdWxlIjogImV2ZW5vZGQiLCAibGluZUNhcCI6ICJyb3VuZCIsICJsaW5lSm9pbiI6ICJyb3VuZCIsICJvcGFjaXR5IjogMS4wLCAicmFkaXVzIjogNSwgInN0cm9rZSI6IHRydWUsICJ3ZWlnaHQiOiAzfQogICAgICAgICAgICApLmFkZFRvKG1hcF81YjY4NDVhMGQ5NjE0ZWEzYjdmYWU5NWM4OGEyYTM4MCk7CiAgICAgICAgCiAgICAKICAgICAgICB2YXIgcG9wdXBfMTQyNjUzOTUwYmI3NGRiZGIzMDVhM2QzZWNiZDJlNGYgPSBMLnBvcHVwKHsibWF4V2lkdGgiOiAiMTAwJSJ9KTsKCiAgICAgICAgCiAgICAgICAgICAgIHZhciBodG1sXzE4ZWUxMDc4MDNjYzQzMzliOGYwYWQ3ODRlYmQ0MDQ4ID0gJChgPGRpdiBpZD0iaHRtbF8xOGVlMTA3ODAzY2M0MzM5YjhmMGFkNzg0ZWJkNDA0OCIgc3R5bGU9IndpZHRoOiAxMDAuMCU7IGhlaWdodDogMTAwLjAlOyI+Q04gVG93ZXIgLyBLaW5nIGFuZCBTcGFkaW5hIC8gUmFpbHdheSBMYW5kcyAvIEhhcmJvdXJmcm9udCBXZXN0IC8gQmF0aHVyc3QgIFF1YXkgLyBTb3V0aCBOaWFnYXJhIC8gSXNsYW5kIGFpcnBvcnQsIERvd250b3duIFRvcm9udG88L2Rpdj5gKVswXTsKICAgICAgICAgICAgcG9wdXBfMTQyNjUzOTUwYmI3NGRiZGIzMDVhM2QzZWNiZDJlNGYuc2V0Q29udGVudChodG1sXzE4ZWUxMDc4MDNjYzQzMzliOGYwYWQ3ODRlYmQ0MDQ4KTsKICAgICAgICAKCiAgICAgICAgY2lyY2xlX21hcmtlcl9mZTg0ZmJiNDI2OWQ0ODkzYTc0ZTQ0Y2NmZDQ2YzIyZi5iaW5kUG9wdXAocG9wdXBfMTQyNjUzOTUwYmI3NGRiZGIzMDVhM2QzZWNiZDJlNGYpCiAgICAgICAgOwoKICAgICAgICAKICAgIAogICAgCiAgICAgICAgICAgIHZhciBjaXJjbGVfbWFya2VyX2Y4MzUyODAxMjk5ZjQyMTg4ZGQyM2IyZDk5ZjU5ZGMzID0gTC5jaXJjbGVNYXJrZXIoCiAgICAgICAgICAgICAgICBbNDMuNjc5NTYyNiwgLTc5LjM3NzUyOTQwMDAwMDAxXSwKICAgICAgICAgICAgICAgIHsiYnViYmxpbmdNb3VzZUV2ZW50cyI6IHRydWUsICJjb2xvciI6ICJibHVlIiwgImRhc2hBcnJheSI6IG51bGwsICJkYXNoT2Zmc2V0IjogbnVsbCwgImZpbGwiOiB0cnVlLCAiZmlsbENvbG9yIjogIiMzMTg2Y2MiLCAiZmlsbE9wYWNpdHkiOiAwLjcsICJmaWxsUnVsZSI6ICJldmVub2RkIiwgImxpbmVDYXAiOiAicm91bmQiLCAibGluZUpvaW4iOiAicm91bmQiLCAib3BhY2l0eSI6IDEuMCwgInJhZGl1cyI6IDUsICJzdHJva2UiOiB0cnVlLCAid2VpZ2h0IjogM30KICAgICAgICAgICAgKS5hZGRUbyhtYXBfNWI2ODQ1YTBkOTYxNGVhM2I3ZmFlOTVjODhhMmEzODApOwogICAgICAgIAogICAgCiAgICAgICAgdmFyIHBvcHVwXzM4YzgzZmUzOWRjZTQ5ODM5Njc0ODRlN2M2ZGNhNzlmID0gTC5wb3B1cCh7Im1heFdpZHRoIjogIjEwMCUifSk7CgogICAgICAgIAogICAgICAgICAgICB2YXIgaHRtbF8wYTg1ZDdmOTI1NDk0ZmFiYTc1NWY2ZTU0MTZlNjM5YSA9ICQoYDxkaXYgaWQ9Imh0bWxfMGE4NWQ3ZjkyNTQ5NGZhYmE3NTVmNmU1NDE2ZTYzOWEiIHN0eWxlPSJ3aWR0aDogMTAwLjAlOyBoZWlnaHQ6IDEwMC4wJTsiPlJvc2VkYWxlLCBEb3dudG93biBUb3JvbnRvPC9kaXY+YClbMF07CiAgICAgICAgICAgIHBvcHVwXzM4YzgzZmUzOWRjZTQ5ODM5Njc0ODRlN2M2ZGNhNzlmLnNldENvbnRlbnQoaHRtbF8wYTg1ZDdmOTI1NDk0ZmFiYTc1NWY2ZTU0MTZlNjM5YSk7CiAgICAgICAgCgogICAgICAgIGNpcmNsZV9tYXJrZXJfZjgzNTI4MDEyOTlmNDIxODhkZDIzYjJkOTlmNTlkYzMuYmluZFBvcHVwKHBvcHVwXzM4YzgzZmUzOWRjZTQ5ODM5Njc0ODRlN2M2ZGNhNzlmKQogICAgICAgIDsKCiAgICAgICAgCiAgICAKICAgIAogICAgICAgICAgICB2YXIgY2lyY2xlX21hcmtlcl85YzcxN2E5ZGVjOWM0OGVlYmExNjNlMmYzN2M5OGNlNSA9IEwuY2lyY2xlTWFya2VyKAogICAgICAgICAgICAgICAgWzQzLjY0NjQzNTIsIC03OS4zNzQ4NDU5OTk5OTk5OV0sCiAgICAgICAgICAgICAgICB7ImJ1YmJsaW5nTW91c2VFdmVudHMiOiB0cnVlLCAiY29sb3IiOiAiYmx1ZSIsICJkYXNoQXJyYXkiOiBudWxsLCAiZGFzaE9mZnNldCI6IG51bGwsICJmaWxsIjogdHJ1ZSwgImZpbGxDb2xvciI6ICIjMzE4NmNjIiwgImZpbGxPcGFjaXR5IjogMC43LCAiZmlsbFJ1bGUiOiAiZXZlbm9kZCIsICJsaW5lQ2FwIjogInJvdW5kIiwgImxpbmVKb2luIjogInJvdW5kIiwgIm9wYWNpdHkiOiAxLjAsICJyYWRpdXMiOiA1LCAic3Ryb2tlIjogdHJ1ZSwgIndlaWdodCI6IDN9CiAgICAgICAgICAgICkuYWRkVG8obWFwXzViNjg0NWEwZDk2MTRlYTNiN2ZhZTk1Yzg4YTJhMzgwKTsKICAgICAgICAKICAgIAogICAgICAgIHZhciBwb3B1cF8xMGRkZDU1MDM1MGY0ZTE3OWMxMjQ3MDM3OTQ0OTE4MSA9IEwucG9wdXAoeyJtYXhXaWR0aCI6ICIxMDAlIn0pOwoKICAgICAgICAKICAgICAgICAgICAgdmFyIGh0bWxfZmNmZWY4MmJmMzBjNDI4ZmE4ZjQxMTgzNjRkZTZhNDYgPSAkKGA8ZGl2IGlkPSJodG1sX2ZjZmVmODJiZjMwYzQyOGZhOGY0MTE4MzY0ZGU2YTQ2IiBzdHlsZT0id2lkdGg6IDEwMC4wJTsgaGVpZ2h0OiAxMDAuMCU7Ij5TdG4gQSBQTyBCb3hlcywgRG93bnRvd24gVG9yb250bzwvZGl2PmApWzBdOwogICAgICAgICAgICBwb3B1cF8xMGRkZDU1MDM1MGY0ZTE3OWMxMjQ3MDM3OTQ0OTE4MS5zZXRDb250ZW50KGh0bWxfZmNmZWY4MmJmMzBjNDI4ZmE4ZjQxMTgzNjRkZTZhNDYpOwogICAgICAgIAoKICAgICAgICBjaXJjbGVfbWFya2VyXzljNzE3YTlkZWM5YzQ4ZWViYTE2M2UyZjM3Yzk4Y2U1LmJpbmRQb3B1cChwb3B1cF8xMGRkZDU1MDM1MGY0ZTE3OWMxMjQ3MDM3OTQ0OTE4MSkKICAgICAgICA7CgogICAgICAgIAogICAgCiAgICAKICAgICAgICAgICAgdmFyIGNpcmNsZV9tYXJrZXJfNTRjYWExMTgyM2Q5NDUzYmI3NDI0YjMwNjgwYjM4NjIgPSBMLmNpcmNsZU1hcmtlcigKICAgICAgICAgICAgICAgIFs0My42Njc5NjcsIC03OS4zNjc2NzUzXSwKICAgICAgICAgICAgICAgIHsiYnViYmxpbmdNb3VzZUV2ZW50cyI6IHRydWUsICJjb2xvciI6ICJibHVlIiwgImRhc2hBcnJheSI6IG51bGwsICJkYXNoT2Zmc2V0IjogbnVsbCwgImZpbGwiOiB0cnVlLCAiZmlsbENvbG9yIjogIiMzMTg2Y2MiLCAiZmlsbE9wYWNpdHkiOiAwLjcsICJmaWxsUnVsZSI6ICJldmVub2RkIiwgImxpbmVDYXAiOiAicm91bmQiLCAibGluZUpvaW4iOiAicm91bmQiLCAib3BhY2l0eSI6IDEuMCwgInJhZGl1cyI6IDUsICJzdHJva2UiOiB0cnVlLCAid2VpZ2h0IjogM30KICAgICAgICAgICAgKS5hZGRUbyhtYXBfNWI2ODQ1YTBkOTYxNGVhM2I3ZmFlOTVjODhhMmEzODApOwogICAgICAgIAogICAgCiAgICAgICAgdmFyIHBvcHVwX2Q1NTVkZmUzYWI5YzRiMGI5YmRjNWEyM2JkNzEyODhlID0gTC5wb3B1cCh7Im1heFdpZHRoIjogIjEwMCUifSk7CgogICAgICAgIAogICAgICAgICAgICB2YXIgaHRtbF9hZjllZmYxMTdlNGU0ZGY5ODhlMjM4Yzg0YjQ4Yzc0MiA9ICQoYDxkaXYgaWQ9Imh0bWxfYWY5ZWZmMTE3ZTRlNGRmOTg4ZTIzOGM4NGI0OGM3NDIiIHN0eWxlPSJ3aWR0aDogMTAwLjAlOyBoZWlnaHQ6IDEwMC4wJTsiPlN0LiBKYW1lcyBUb3duIC8gQ2FiYmFnZXRvd24sIERvd250b3duIFRvcm9udG88L2Rpdj5gKVswXTsKICAgICAgICAgICAgcG9wdXBfZDU1NWRmZTNhYjljNGIwYjliZGM1YTIzYmQ3MTI4OGUuc2V0Q29udGVudChodG1sX2FmOWVmZjExN2U0ZTRkZjk4OGUyMzhjODRiNDhjNzQyKTsKICAgICAgICAKCiAgICAgICAgY2lyY2xlX21hcmtlcl81NGNhYTExODIzZDk0NTNiYjc0MjRiMzA2ODBiMzg2Mi5iaW5kUG9wdXAocG9wdXBfZDU1NWRmZTNhYjljNGIwYjliZGM1YTIzYmQ3MTI4OGUpCiAgICAgICAgOwoKICAgICAgICAKICAgIAogICAgCiAgICAgICAgICAgIHZhciBjaXJjbGVfbWFya2VyXzYyMzcxZmM2MWRkYzRlMTE5NGM0MTc5MjhjZGQ4MzczID0gTC5jaXJjbGVNYXJrZXIoCiAgICAgICAgICAgICAgICBbNDMuNjQ4NDI5MiwgLTc5LjM4MjI4MDJdLAogICAgICAgICAgICAgICAgeyJidWJibGluZ01vdXNlRXZlbnRzIjogdHJ1ZSwgImNvbG9yIjogImJsdWUiLCAiZGFzaEFycmF5IjogbnVsbCwgImRhc2hPZmZzZXQiOiBudWxsLCAiZmlsbCI6IHRydWUsICJmaWxsQ29sb3IiOiAiIzMxODZjYyIsICJmaWxsT3BhY2l0eSI6IDAuNywgImZpbGxSdWxlIjogImV2ZW5vZGQiLCAibGluZUNhcCI6ICJyb3VuZCIsICJsaW5lSm9pbiI6ICJyb3VuZCIsICJvcGFjaXR5IjogMS4wLCAicmFkaXVzIjogNSwgInN0cm9rZSI6IHRydWUsICJ3ZWlnaHQiOiAzfQogICAgICAgICAgICApLmFkZFRvKG1hcF81YjY4NDVhMGQ5NjE0ZWEzYjdmYWU5NWM4OGEyYTM4MCk7CiAgICAgICAgCiAgICAKICAgICAgICB2YXIgcG9wdXBfMDkzYTRiNTFmMDc2NDg4M2E0ZTJjNGVkYzhjMjRmZDMgPSBMLnBvcHVwKHsibWF4V2lkdGgiOiAiMTAwJSJ9KTsKCiAgICAgICAgCiAgICAgICAgICAgIHZhciBodG1sX2JiODE2OTY0NTRhMzRkNDQ4MDRlYmFkY2YxMzFmYTlkID0gJChgPGRpdiBpZD0iaHRtbF9iYjgxNjk2NDU0YTM0ZDQ0ODA0ZWJhZGNmMTMxZmE5ZCIgc3R5bGU9IndpZHRoOiAxMDAuMCU7IGhlaWdodDogMTAwLjAlOyI+Rmlyc3QgQ2FuYWRpYW4gUGxhY2UgLyBVbmRlcmdyb3VuZCBjaXR5LCBEb3dudG93biBUb3JvbnRvPC9kaXY+YClbMF07CiAgICAgICAgICAgIHBvcHVwXzA5M2E0YjUxZjA3NjQ4ODNhNGUyYzRlZGM4YzI0ZmQzLnNldENvbnRlbnQoaHRtbF9iYjgxNjk2NDU0YTM0ZDQ0ODA0ZWJhZGNmMTMxZmE5ZCk7CiAgICAgICAgCgogICAgICAgIGNpcmNsZV9tYXJrZXJfNjIzNzFmYzYxZGRjNGUxMTk0YzQxNzkyOGNkZDgzNzMuYmluZFBvcHVwKHBvcHVwXzA5M2E0YjUxZjA3NjQ4ODNhNGUyYzRlZGM4YzI0ZmQzKQogICAgICAgIDsKCiAgICAgICAgCiAgICAKICAgIAogICAgICAgICAgICB2YXIgY2lyY2xlX21hcmtlcl81MjRiOWE2YmI0YzU0NjNkOTY5YjU2NWIxZGM2Nzk0YiA9IEwuY2lyY2xlTWFya2VyKAogICAgICAgICAgICAgICAgWzQzLjY2NTg1OTksIC03OS4zODMxNTk5MDAwMDAwMV0sCiAgICAgICAgICAgICAgICB7ImJ1YmJsaW5nTW91c2VFdmVudHMiOiB0cnVlLCAiY29sb3IiOiAiYmx1ZSIsICJkYXNoQXJyYXkiOiBudWxsLCAiZGFzaE9mZnNldCI6IG51bGwsICJmaWxsIjogdHJ1ZSwgImZpbGxDb2xvciI6ICIjMzE4NmNjIiwgImZpbGxPcGFjaXR5IjogMC43LCAiZmlsbFJ1bGUiOiAiZXZlbm9kZCIsICJsaW5lQ2FwIjogInJvdW5kIiwgImxpbmVKb2luIjogInJvdW5kIiwgIm9wYWNpdHkiOiAxLjAsICJyYWRpdXMiOiA1LCAic3Ryb2tlIjogdHJ1ZSwgIndlaWdodCI6IDN9CiAgICAgICAgICAgICkuYWRkVG8obWFwXzViNjg0NWEwZDk2MTRlYTNiN2ZhZTk1Yzg4YTJhMzgwKTsKICAgICAgICAKICAgIAogICAgICAgIHZhciBwb3B1cF8xYzI0MTAyMzk2NjQ0YmFmOTQzN2FjNzkzNjM1NmQxZCA9IEwucG9wdXAoeyJtYXhXaWR0aCI6ICIxMDAlIn0pOwoKICAgICAgICAKICAgICAgICAgICAgdmFyIGh0bWxfNWRlZWNkYmIyOGYxNGNmMzgzMmM4YTAwMjYwYWNkZmIgPSAkKGA8ZGl2IGlkPSJodG1sXzVkZWVjZGJiMjhmMTRjZjM4MzJjOGEwMDI2MGFjZGZiIiBzdHlsZT0id2lkdGg6IDEwMC4wJTsgaGVpZ2h0OiAxMDAuMCU7Ij5DaHVyY2ggYW5kIFdlbGxlc2xleSwgRG93bnRvd24gVG9yb250bzwvZGl2PmApWzBdOwogICAgICAgICAgICBwb3B1cF8xYzI0MTAyMzk2NjQ0YmFmOTQzN2FjNzkzNjM1NmQxZC5zZXRDb250ZW50KGh0bWxfNWRlZWNkYmIyOGYxNGNmMzgzMmM4YTAwMjYwYWNkZmIpOwogICAgICAgIAoKICAgICAgICBjaXJjbGVfbWFya2VyXzUyNGI5YTZiYjRjNTQ2M2Q5NjliNTY1YjFkYzY3OTRiLmJpbmRQb3B1cChwb3B1cF8xYzI0MTAyMzk2NjQ0YmFmOTQzN2FjNzkzNjM1NmQxZCkKICAgICAgICA7CgogICAgICAgIAogICAgCiAgICAKICAgICAgICAgICAgdmFyIGNpcmNsZV9tYXJrZXJfNWZkNzMzZmJjMjUwNDhjMzg2MDM5MGU0OWJiOTI0ZTkgPSBMLmNpcmNsZU1hcmtlcigKICAgICAgICAgICAgICAgIFs0My42NjI3NDM5LCAtNzkuMzIxNTU4XSwKICAgICAgICAgICAgICAgIHsiYnViYmxpbmdNb3VzZUV2ZW50cyI6IHRydWUsICJjb2xvciI6ICJibHVlIiwgImRhc2hBcnJheSI6IG51bGwsICJkYXNoT2Zmc2V0IjogbnVsbCwgImZpbGwiOiB0cnVlLCAiZmlsbENvbG9yIjogIiMzMTg2Y2MiLCAiZmlsbE9wYWNpdHkiOiAwLjcsICJmaWxsUnVsZSI6ICJldmVub2RkIiwgImxpbmVDYXAiOiAicm91bmQiLCAibGluZUpvaW4iOiAicm91bmQiLCAib3BhY2l0eSI6IDEuMCwgInJhZGl1cyI6IDUsICJzdHJva2UiOiB0cnVlLCAid2VpZ2h0IjogM30KICAgICAgICAgICAgKS5hZGRUbyhtYXBfNWI2ODQ1YTBkOTYxNGVhM2I3ZmFlOTVjODhhMmEzODApOwogICAgICAgIAogICAgCiAgICAgICAgdmFyIHBvcHVwXzE4MjM4MzI0ODAxODQ2OTRiMmZlZmVmZmQ5MjkxMmUwID0gTC5wb3B1cCh7Im1heFdpZHRoIjogIjEwMCUifSk7CgogICAgICAgIAogICAgICAgICAgICB2YXIgaHRtbF83Y2U1ODgyYWI3N2U0YWRlYmQxMGZiMjdhOGYwOGEyNSA9ICQoYDxkaXYgaWQ9Imh0bWxfN2NlNTg4MmFiNzdlNGFkZWJkMTBmYjI3YThmMDhhMjUiIHN0eWxlPSJ3aWR0aDogMTAwLjAlOyBoZWlnaHQ6IDEwMC4wJTsiPkJ1c2luZXNzIHJlcGx5IG1haWwgUHJvY2Vzc2luZyBDZW50ckUsIEVhc3QgVG9yb250bzwvZGl2PmApWzBdOwogICAgICAgICAgICBwb3B1cF8xODIzODMyNDgwMTg0Njk0YjJmZWZlZmZkOTI5MTJlMC5zZXRDb250ZW50KGh0bWxfN2NlNTg4MmFiNzdlNGFkZWJkMTBmYjI3YThmMDhhMjUpOwogICAgICAgIAoKICAgICAgICBjaXJjbGVfbWFya2VyXzVmZDczM2ZiYzI1MDQ4YzM4NjAzOTBlNDliYjkyNGU5LmJpbmRQb3B1cChwb3B1cF8xODIzODMyNDgwMTg0Njk0YjJmZWZlZmZkOTI5MTJlMCkKICAgICAgICA7CgogICAgICAgIAogICAgCjwvc2NyaXB0Pg== onload=\"this.contentDocument.open();this.contentDocument.write(atob(this.getAttribute('data-html')));this.contentDocument.close();\" allowfullscreen webkitallowfullscreen mozallowfullscreen></iframe></div></div>"
      ],
      "text/plain": [
       "<folium.folium.Map at 0x1c052b973c8>"
      ]
     },
     "execution_count": 45,
     "metadata": {},
     "output_type": "execute_result"
    }
   ],
   "source": [
    "map_toronto = folium.Map(location=[43.651070,-79.347015],zoom_start=10)\n",
    "\n",
    "for lat,lng,borough,neighbourhood in zip(df4['Latitude'],df4['Longitude'],df4['Borough'],df4['Neighborhood']):\n",
    "    label = '{}, {}'.format(neighbourhood, borough)\n",
    "    label = folium.Popup(label, parse_html=True)\n",
    "    folium.CircleMarker(\n",
    "    [lat,lng],\n",
    "    radius=5,\n",
    "    popup=label,\n",
    "    color='blue',\n",
    "    fill=True,\n",
    "    fill_color='#3186cc',\n",
    "    fill_opacity=0.7,\n",
    "    parse_html=False).add_to(map_toronto)\n",
    "map_toronto"
   ]
  },
  {
   "cell_type": "markdown",
   "metadata": {},
   "source": [
    "## Using KMeans clustering, I choose k=5"
   ]
  },
  {
   "cell_type": "code",
   "execution_count": 50,
   "metadata": {
    "collapsed": true
   },
   "outputs": [
    {
     "ename": "ValueError",
     "evalue": "cannot insert Cluster Labels, already exists",
     "output_type": "error",
     "traceback": [
      "\u001b[1;31m---------------------------------------------------------------------------\u001b[0m",
      "\u001b[1;31mValueError\u001b[0m                                Traceback (most recent call last)",
      "\u001b[1;32m<ipython-input-50-823988f22009>\u001b[0m in \u001b[0;36m<module>\u001b[1;34m\u001b[0m\n\u001b[0;32m      3\u001b[0m \u001b[0mkmeans\u001b[0m \u001b[1;33m=\u001b[0m \u001b[0mKMeans\u001b[0m\u001b[1;33m(\u001b[0m\u001b[0mn_clusters\u001b[0m \u001b[1;33m=\u001b[0m \u001b[0mk\u001b[0m\u001b[1;33m,\u001b[0m\u001b[0mrandom_state\u001b[0m\u001b[1;33m=\u001b[0m\u001b[1;36m0\u001b[0m\u001b[1;33m)\u001b[0m\u001b[1;33m.\u001b[0m\u001b[0mfit\u001b[0m\u001b[1;33m(\u001b[0m\u001b[0mtoronto_clustering\u001b[0m\u001b[1;33m)\u001b[0m\u001b[1;33m\u001b[0m\u001b[1;33m\u001b[0m\u001b[0m\n\u001b[0;32m      4\u001b[0m \u001b[0mkmeans\u001b[0m\u001b[1;33m.\u001b[0m\u001b[0mlabels_\u001b[0m\u001b[1;33m\u001b[0m\u001b[1;33m\u001b[0m\u001b[0m\n\u001b[1;32m----> 5\u001b[1;33m \u001b[0mdf4\u001b[0m\u001b[1;33m.\u001b[0m\u001b[0minsert\u001b[0m\u001b[1;33m(\u001b[0m\u001b[1;36m0\u001b[0m\u001b[1;33m,\u001b[0m \u001b[1;34m'Cluster Labels'\u001b[0m\u001b[1;33m,\u001b[0m \u001b[0mkmeans\u001b[0m\u001b[1;33m.\u001b[0m\u001b[0mlabels_\u001b[0m\u001b[1;33m)\u001b[0m\u001b[1;33m\u001b[0m\u001b[1;33m\u001b[0m\u001b[0m\n\u001b[0m",
      "\u001b[1;32m~\\Anaconda3\\envs\\untitled\\lib\\site-packages\\pandas\\core\\frame.py\u001b[0m in \u001b[0;36minsert\u001b[1;34m(self, loc, column, value, allow_duplicates)\u001b[0m\n\u001b[0;32m   3494\u001b[0m         \u001b[0mself\u001b[0m\u001b[1;33m.\u001b[0m\u001b[0m_ensure_valid_index\u001b[0m\u001b[1;33m(\u001b[0m\u001b[0mvalue\u001b[0m\u001b[1;33m)\u001b[0m\u001b[1;33m\u001b[0m\u001b[1;33m\u001b[0m\u001b[0m\n\u001b[0;32m   3495\u001b[0m         \u001b[0mvalue\u001b[0m \u001b[1;33m=\u001b[0m \u001b[0mself\u001b[0m\u001b[1;33m.\u001b[0m\u001b[0m_sanitize_column\u001b[0m\u001b[1;33m(\u001b[0m\u001b[0mcolumn\u001b[0m\u001b[1;33m,\u001b[0m \u001b[0mvalue\u001b[0m\u001b[1;33m,\u001b[0m \u001b[0mbroadcast\u001b[0m\u001b[1;33m=\u001b[0m\u001b[1;32mFalse\u001b[0m\u001b[1;33m)\u001b[0m\u001b[1;33m\u001b[0m\u001b[1;33m\u001b[0m\u001b[0m\n\u001b[1;32m-> 3496\u001b[1;33m         \u001b[0mself\u001b[0m\u001b[1;33m.\u001b[0m\u001b[0m_data\u001b[0m\u001b[1;33m.\u001b[0m\u001b[0minsert\u001b[0m\u001b[1;33m(\u001b[0m\u001b[0mloc\u001b[0m\u001b[1;33m,\u001b[0m \u001b[0mcolumn\u001b[0m\u001b[1;33m,\u001b[0m \u001b[0mvalue\u001b[0m\u001b[1;33m,\u001b[0m \u001b[0mallow_duplicates\u001b[0m\u001b[1;33m=\u001b[0m\u001b[0mallow_duplicates\u001b[0m\u001b[1;33m)\u001b[0m\u001b[1;33m\u001b[0m\u001b[1;33m\u001b[0m\u001b[0m\n\u001b[0m\u001b[0;32m   3497\u001b[0m \u001b[1;33m\u001b[0m\u001b[0m\n\u001b[0;32m   3498\u001b[0m     \u001b[1;32mdef\u001b[0m \u001b[0massign\u001b[0m\u001b[1;33m(\u001b[0m\u001b[0mself\u001b[0m\u001b[1;33m,\u001b[0m \u001b[1;33m**\u001b[0m\u001b[0mkwargs\u001b[0m\u001b[1;33m)\u001b[0m \u001b[1;33m->\u001b[0m \u001b[1;34m\"DataFrame\"\u001b[0m\u001b[1;33m:\u001b[0m\u001b[1;33m\u001b[0m\u001b[1;33m\u001b[0m\u001b[0m\n",
      "\u001b[1;32m~\\Anaconda3\\envs\\untitled\\lib\\site-packages\\pandas\\core\\internals\\managers.py\u001b[0m in \u001b[0;36minsert\u001b[1;34m(self, loc, item, value, allow_duplicates)\u001b[0m\n\u001b[0;32m   1171\u001b[0m         \u001b[1;32mif\u001b[0m \u001b[1;32mnot\u001b[0m \u001b[0mallow_duplicates\u001b[0m \u001b[1;32mand\u001b[0m \u001b[0mitem\u001b[0m \u001b[1;32min\u001b[0m \u001b[0mself\u001b[0m\u001b[1;33m.\u001b[0m\u001b[0mitems\u001b[0m\u001b[1;33m:\u001b[0m\u001b[1;33m\u001b[0m\u001b[1;33m\u001b[0m\u001b[0m\n\u001b[0;32m   1172\u001b[0m             \u001b[1;31m# Should this be a different kind of error??\u001b[0m\u001b[1;33m\u001b[0m\u001b[1;33m\u001b[0m\u001b[1;33m\u001b[0m\u001b[0m\n\u001b[1;32m-> 1173\u001b[1;33m             \u001b[1;32mraise\u001b[0m \u001b[0mValueError\u001b[0m\u001b[1;33m(\u001b[0m\u001b[1;34mf\"cannot insert {item}, already exists\"\u001b[0m\u001b[1;33m)\u001b[0m\u001b[1;33m\u001b[0m\u001b[1;33m\u001b[0m\u001b[0m\n\u001b[0m\u001b[0;32m   1174\u001b[0m \u001b[1;33m\u001b[0m\u001b[0m\n\u001b[0;32m   1175\u001b[0m         \u001b[1;32mif\u001b[0m \u001b[1;32mnot\u001b[0m \u001b[0misinstance\u001b[0m\u001b[1;33m(\u001b[0m\u001b[0mloc\u001b[0m\u001b[1;33m,\u001b[0m \u001b[0mint\u001b[0m\u001b[1;33m)\u001b[0m\u001b[1;33m:\u001b[0m\u001b[1;33m\u001b[0m\u001b[1;33m\u001b[0m\u001b[0m\n",
      "\u001b[1;31mValueError\u001b[0m: cannot insert Cluster Labels, already exists"
     ]
    }
   ],
   "source": [
    "k=5\n",
    "toronto_clustering = df4.drop(['Postal code','Borough','Neighborhood'],1)\n",
    "kmeans = KMeans(n_clusters = k,random_state=0).fit(toronto_clustering)\n",
    "kmeans.labels_\n",
    "df4.insert(0, 'Cluster Labels', kmeans.labels_)"
   ]
  },
  {
   "cell_type": "code",
   "execution_count": 52,
   "metadata": {},
   "outputs": [
    {
     "data": {
      "text/html": [
       "<div>\n",
       "<style scoped>\n",
       "    .dataframe tbody tr th:only-of-type {\n",
       "        vertical-align: middle;\n",
       "    }\n",
       "\n",
       "    .dataframe tbody tr th {\n",
       "        vertical-align: top;\n",
       "    }\n",
       "\n",
       "    .dataframe thead th {\n",
       "        text-align: right;\n",
       "    }\n",
       "</style>\n",
       "<table border=\"1\" class=\"dataframe\">\n",
       "  <thead>\n",
       "    <tr style=\"text-align: right;\">\n",
       "      <th></th>\n",
       "      <th>Cluster Labels</th>\n",
       "      <th>Postal code</th>\n",
       "      <th>Borough</th>\n",
       "      <th>Neighborhood</th>\n",
       "      <th>Latitude</th>\n",
       "      <th>Longitude</th>\n",
       "    </tr>\n",
       "  </thead>\n",
       "  <tbody>\n",
       "    <tr>\n",
       "      <th>2</th>\n",
       "      <td>0</td>\n",
       "      <td>M5A</td>\n",
       "      <td>Downtown Toronto</td>\n",
       "      <td>Regent Park / Harbourfront</td>\n",
       "      <td>43.654260</td>\n",
       "      <td>-79.360636</td>\n",
       "    </tr>\n",
       "    <tr>\n",
       "      <th>4</th>\n",
       "      <td>0</td>\n",
       "      <td>M7A</td>\n",
       "      <td>Downtown Toronto</td>\n",
       "      <td>Queen's Park / Ontario Provincial Government</td>\n",
       "      <td>43.662301</td>\n",
       "      <td>-79.389494</td>\n",
       "    </tr>\n",
       "    <tr>\n",
       "      <th>9</th>\n",
       "      <td>0</td>\n",
       "      <td>M5B</td>\n",
       "      <td>Downtown Toronto</td>\n",
       "      <td>Garden District, Ryerson</td>\n",
       "      <td>43.657162</td>\n",
       "      <td>-79.378937</td>\n",
       "    </tr>\n",
       "    <tr>\n",
       "      <th>15</th>\n",
       "      <td>0</td>\n",
       "      <td>M5C</td>\n",
       "      <td>Downtown Toronto</td>\n",
       "      <td>St. James Town</td>\n",
       "      <td>43.651494</td>\n",
       "      <td>-79.375418</td>\n",
       "    </tr>\n",
       "    <tr>\n",
       "      <th>19</th>\n",
       "      <td>1</td>\n",
       "      <td>M4E</td>\n",
       "      <td>East Toronto</td>\n",
       "      <td>The Beaches</td>\n",
       "      <td>43.676357</td>\n",
       "      <td>-79.293031</td>\n",
       "    </tr>\n",
       "    <tr>\n",
       "      <th>20</th>\n",
       "      <td>0</td>\n",
       "      <td>M5E</td>\n",
       "      <td>Downtown Toronto</td>\n",
       "      <td>Berczy Park</td>\n",
       "      <td>43.644771</td>\n",
       "      <td>-79.373306</td>\n",
       "    </tr>\n",
       "    <tr>\n",
       "      <th>24</th>\n",
       "      <td>0</td>\n",
       "      <td>M5G</td>\n",
       "      <td>Downtown Toronto</td>\n",
       "      <td>Central Bay Street</td>\n",
       "      <td>43.657952</td>\n",
       "      <td>-79.387383</td>\n",
       "    </tr>\n",
       "  </tbody>\n",
       "</table>\n",
       "</div>"
      ],
      "text/plain": [
       "    Cluster Labels Postal code           Borough  \\\n",
       "2                0         M5A  Downtown Toronto   \n",
       "4                0         M7A  Downtown Toronto   \n",
       "9                0         M5B  Downtown Toronto   \n",
       "15               0         M5C  Downtown Toronto   \n",
       "19               1         M4E      East Toronto   \n",
       "20               0         M5E  Downtown Toronto   \n",
       "24               0         M5G  Downtown Toronto   \n",
       "\n",
       "                                    Neighborhood   Latitude  Longitude  \n",
       "2                     Regent Park / Harbourfront  43.654260 -79.360636  \n",
       "4   Queen's Park / Ontario Provincial Government  43.662301 -79.389494  \n",
       "9                       Garden District, Ryerson  43.657162 -79.378937  \n",
       "15                                St. James Town  43.651494 -79.375418  \n",
       "19                                   The Beaches  43.676357 -79.293031  \n",
       "20                                   Berczy Park  43.644771 -79.373306  \n",
       "24                            Central Bay Street  43.657952 -79.387383  "
      ]
     },
     "execution_count": 52,
     "metadata": {},
     "output_type": "execute_result"
    }
   ],
   "source": [
    "df4.head(7)"
   ]
  },
  {
   "cell_type": "markdown",
   "metadata": {},
   "source": [
    "## Visualizing all the Neighbourhoods with the Clusters"
   ]
  },
  {
   "cell_type": "markdown",
   "metadata": {},
   "source": [
    "*Once again, if you can't see the map, in my repository you can find it with name of =* **Neighbourhoods_Clusters**"
   ]
  },
  {
   "cell_type": "code",
   "execution_count": 54,
   "metadata": {},
   "outputs": [
    {
     "data": {
      "text/html": [
       "<div style=\"width:100%;\"><div style=\"position:relative;width:100%;height:0;padding-bottom:60%;\"><iframe src=\"about:blank\" style=\"position:absolute;width:100%;height:100%;left:0;top:0;border:none !important;\" data-html=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 onload=\"this.contentDocument.open();this.contentDocument.write(atob(this.getAttribute('data-html')));this.contentDocument.close();\" allowfullscreen webkitallowfullscreen mozallowfullscreen></iframe></div></div>"
      ],
      "text/plain": [
       "<folium.folium.Map at 0x1c054c49088>"
      ]
     },
     "execution_count": 54,
     "metadata": {},
     "output_type": "execute_result"
    }
   ],
   "source": [
    "# create map\n",
    "map_clusters = folium.Map(location=[43.651070,-79.347015],zoom_start=10)\n",
    "\n",
    "# set color scheme for the clusters\n",
    "x = np.arange(k)\n",
    "ys = [i + x + (i*x)**2 for i in range(k)]\n",
    "colors_array = cm.rainbow(np.linspace(0, 1, len(ys)))\n",
    "rainbow = [colors.rgb2hex(i) for i in colors_array]\n",
    "\n",
    "# add markers to the map\n",
    "markers_colors = []\n",
    "for lat, lon, neighbourhood, cluster in zip(df4['Latitude'], df4['Longitude'], df4['Neighborhood'], df4['Cluster Labels']):\n",
    "    label = folium.Popup(' Cluster ' + str(cluster), parse_html=True)\n",
    "    folium.CircleMarker(\n",
    "        [lat, lon],\n",
    "        radius=5,\n",
    "        popup=label,\n",
    "        color=rainbow[cluster-1],\n",
    "        fill=True,\n",
    "        fill_color=rainbow[cluster-1],\n",
    "        fill_opacity=0.7).add_to(map_clusters)\n",
    "       \n",
    "map_clusters"
   ]
  },
  {
   "cell_type": "markdown",
   "metadata": {},
   "source": [
    "## THE END "
   ]
  },
  {
   "cell_type": "code",
   "execution_count": null,
   "metadata": {},
   "outputs": [],
   "source": []
  }
 ],
 "metadata": {
  "kernelspec": {
   "display_name": "Python 3",
   "language": "python",
   "name": "python3"
  },
  "language_info": {
   "codemirror_mode": {
    "name": "ipython",
    "version": 3
   },
   "file_extension": ".py",
   "mimetype": "text/x-python",
   "name": "python",
   "nbconvert_exporter": "python",
   "pygments_lexer": "ipython3",
   "version": "3.7.5"
  }
 },
 "nbformat": 4,
 "nbformat_minor": 2
}
